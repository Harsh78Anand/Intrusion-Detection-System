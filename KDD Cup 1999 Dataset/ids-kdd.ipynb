{
  "nbformat": 4,
  "nbformat_minor": 0,
  "metadata": {
    "colab": {
      "name": "ids.ipynb",
      "provenance": [],
      "collapsed_sections": []
    },
    "kernelspec": {
      "display_name": "Python 3",
      "name": "python3"
    }
  },
  "cells": [
    {
      "cell_type": "markdown",
      "metadata": {
        "id": "o8PghKpWG3rJ"
      },
      "source": [
        "**Preprocessing of the dataset**"
      ]
    },
    {
      "cell_type": "code",
      "metadata": {
        "id": "3BlOpjtLHGnO"
      },
      "source": [
        "import numpy as np\r\n",
        "import pandas as pd\r\n",
        "import matplotlib.pyplot as plt\r\n",
        "import seaborn as sns\r\n",
        "from sklearn.model_selection import train_test_split \r\n",
        "from sklearn.preprocessing import MinMaxScaler\r\n",
        "import os\r\n",
        "import time"
      ],
      "execution_count": 1,
      "outputs": []
    },
    {
      "cell_type": "code",
      "metadata": {
        "colab": {
          "base_uri": "https://localhost:8080/"
        },
        "id": "q3XXZzSgKC92",
        "outputId": "c43dd0d2-7f29-4207-c028-0135119850de"
      },
      "source": [
        "with open(\"/content/sample_data/kddcup.names\",'r') as column:\r\n",
        "  print(column.read())"
      ],
      "execution_count": null,
      "outputs": [
        {
          "output_type": "stream",
          "text": [
            "back,buffer_overflow,ftp_write,guess_passwd,imap,ipsweep,land,loadmodule,multihop,neptune,nmap,normal,perl,phf,pod,portsweep,rootkit,satan,smurf,spy,teardrop,warezclient,warezmaster.\n",
            "duration: continuous.\n",
            "protocol_type: symbolic.\n",
            "service: symbolic.\n",
            "flag: symbolic.\n",
            "src_bytes: continuous.\n",
            "dst_bytes: continuous.\n",
            "land: symbolic.\n",
            "wrong_fragment: continuous.\n",
            "urgent: continuous.\n",
            "hot: continuous.\n",
            "num_failed_logins: continuous.\n",
            "logged_in: symbolic.\n",
            "num_compromised: continuous.\n",
            "root_shell: continuous.\n",
            "su_attempted: continuous.\n",
            "num_root: continuous.\n",
            "num_file_creations: continuous.\n",
            "num_shells: continuous.\n",
            "num_access_files: continuous.\n",
            "num_outbound_cmds: continuous.\n",
            "is_host_login: symbolic.\n",
            "is_guest_login: symbolic.\n",
            "count: continuous.\n",
            "srv_count: continuous.\n",
            "serror_rate: continuous.\n",
            "srv_serror_rate: continuous.\n",
            "rerror_rate: continuous.\n",
            "srv_rerror_rate: continuous.\n",
            "same_srv_rate: continuous.\n",
            "diff_srv_rate: continuous.\n",
            "srv_diff_host_rate: continuous.\n",
            "dst_host_count: continuous.\n",
            "dst_host_srv_count: continuous.\n",
            "dst_host_same_srv_rate: continuous.\n",
            "dst_host_diff_srv_rate: continuous.\n",
            "dst_host_same_src_port_rate: continuous.\n",
            "dst_host_srv_diff_host_rate: continuous.\n",
            "dst_host_serror_rate: continuous.\n",
            "dst_host_srv_serror_rate: continuous.\n",
            "dst_host_rerror_rate: continuous.\n",
            "dst_host_srv_rerror_rate: continuous.\n",
            "\n"
          ],
          "name": "stdout"
        }
      ]
    },
    {
      "cell_type": "code",
      "metadata": {
        "colab": {
          "base_uri": "https://localhost:8080/"
        },
        "id": "DcYHjhXXW1kx",
        "outputId": "81367f8c-cc96-460a-8d50-de1fe1e63be1"
      },
      "source": [
        "col =\"\"\"duration, protocol_type, service, flag, src_bytes, dst_bytes, land, wrong_fragment, urgent, hot, num_failed_logins, logged_in, num_compromised, \r\n",
        "root_shell, su_attempted, num_root, num_file_creations, num_shells, num_access_files, num_outbound_cmds, is_host_login, is_guest_login, count, \r\n",
        "srv_count, serror_rate, srv_serror_rate, rerror_rate, srv_rerror_rate, same_srv_rate, diff_srv_rate, srv_diff_host_rate, dst_host_count, \r\n",
        "dst_host_srv_count, dst_host_same_srv_rate, dst_host_diff_srv_rate, dst_host_same_src_port_rate, dst_host_srv_diff_host_rate, dst_host_serror_rate, \r\n",
        "dst_host_srv_serror_rate, dst_host_rerror_rate, dst_host_srv_rerror_rate\"\"\"\r\n",
        "columns =[] \r\n",
        "for c in col.split(', '): \r\n",
        "    if(c.strip()): \r\n",
        "       columns.append(c.strip()) \r\n",
        "  \r\n",
        "columns.append('target') \r\n",
        "print(len(columns)) "
      ],
      "execution_count": null,
      "outputs": [
        {
          "output_type": "stream",
          "text": [
            "42\n"
          ],
          "name": "stdout"
        }
      ]
    },
    {
      "cell_type": "code",
      "metadata": {
        "colab": {
          "base_uri": "https://localhost:8080/"
        },
        "id": "P_cKLKnaW6En",
        "outputId": "e67186ed-8b39-4c6e-a3f7-5e4946d495ee"
      },
      "source": [
        "with open(\"/content/sample_data/training_attack_types\", 'r') as at: \r\n",
        "    print(at.read())"
      ],
      "execution_count": null,
      "outputs": [
        {
          "output_type": "stream",
          "text": [
            "back dos\n",
            "buffer_overflow u2r\n",
            "ftp_write r2l\n",
            "guess_passwd r2l\n",
            "imap r2l\n",
            "ipsweep probe\n",
            "land dos\n",
            "loadmodule u2r\n",
            "multihop r2l\n",
            "neptune dos\n",
            "nmap probe\n",
            "perl u2r\n",
            "phf r2l\n",
            "pod dos\n",
            "portsweep probe\n",
            "rootkit u2r\n",
            "satan probe\n",
            "smurf dos\n",
            "spy r2l\n",
            "teardrop dos\n",
            "warezclient r2l\n",
            "warezmaster r2l\n",
            "\n",
            "\n"
          ],
          "name": "stdout"
        }
      ]
    },
    {
      "cell_type": "code",
      "metadata": {
        "id": "sgDCPFC-YXXh"
      },
      "source": [
        "attack_types = { \r\n",
        "'normal': 'normal', \r\n",
        "'back': 'dos', \r\n",
        "'buffer_overflow': 'u2r', \r\n",
        "'ftp_write': 'r2l', \r\n",
        "'guess_passwd': 'r2l', \r\n",
        "'imap': 'r2l', \r\n",
        "'ipsweep': 'probe', \r\n",
        "'land': 'dos', \r\n",
        "'loadmodule': 'u2r', \r\n",
        "'multihop': 'r2l', \r\n",
        "'neptune': 'dos', \r\n",
        "'nmap': 'probe', \r\n",
        "'perl': 'u2r', \r\n",
        "'phf': 'r2l', \r\n",
        "'pod': 'dos', \r\n",
        "'portsweep': 'probe', \r\n",
        "'rootkit': 'u2r', \r\n",
        "'satan': 'probe', \r\n",
        "'smurf': 'dos', \r\n",
        "'spy': 'r2l', \r\n",
        "'teardrop': 'dos', \r\n",
        "'warezclient': 'r2l', \r\n",
        "'warezmaster': 'r2l', \r\n",
        "} "
      ],
      "execution_count": null,
      "outputs": []
    },
    {
      "cell_type": "code",
      "metadata": {
        "colab": {
          "base_uri": "https://localhost:8080/",
          "height": 232
        },
        "id": "hTVQ5leHZWI9",
        "outputId": "b0f8cdfb-84c6-41d7-c40c-8df431a078ba"
      },
      "source": [
        "at = pd.read_csv(\"/content/sample_data/kddcup.data_10_percent.gz\", names = columns) \r\n",
        "at['Attack Type'] = at.target.apply(lambda r:attack_types[r[:-1]]) \r\n",
        "at.head()"
      ],
      "execution_count": null,
      "outputs": [
        {
          "output_type": "execute_result",
          "data": {
            "text/html": [
              "<div>\n",
              "<style scoped>\n",
              "    .dataframe tbody tr th:only-of-type {\n",
              "        vertical-align: middle;\n",
              "    }\n",
              "\n",
              "    .dataframe tbody tr th {\n",
              "        vertical-align: top;\n",
              "    }\n",
              "\n",
              "    .dataframe thead th {\n",
              "        text-align: right;\n",
              "    }\n",
              "</style>\n",
              "<table border=\"1\" class=\"dataframe\">\n",
              "  <thead>\n",
              "    <tr style=\"text-align: right;\">\n",
              "      <th></th>\n",
              "      <th>duration</th>\n",
              "      <th>protocol_type</th>\n",
              "      <th>service</th>\n",
              "      <th>flag</th>\n",
              "      <th>src_bytes</th>\n",
              "      <th>dst_bytes</th>\n",
              "      <th>land</th>\n",
              "      <th>wrong_fragment</th>\n",
              "      <th>urgent</th>\n",
              "      <th>hot</th>\n",
              "      <th>num_failed_logins</th>\n",
              "      <th>logged_in</th>\n",
              "      <th>num_compromised</th>\n",
              "      <th>root_shell</th>\n",
              "      <th>su_attempted</th>\n",
              "      <th>num_root</th>\n",
              "      <th>num_file_creations</th>\n",
              "      <th>num_shells</th>\n",
              "      <th>num_access_files</th>\n",
              "      <th>num_outbound_cmds</th>\n",
              "      <th>is_host_login</th>\n",
              "      <th>is_guest_login</th>\n",
              "      <th>count</th>\n",
              "      <th>srv_count</th>\n",
              "      <th>serror_rate</th>\n",
              "      <th>srv_serror_rate</th>\n",
              "      <th>rerror_rate</th>\n",
              "      <th>srv_rerror_rate</th>\n",
              "      <th>same_srv_rate</th>\n",
              "      <th>diff_srv_rate</th>\n",
              "      <th>srv_diff_host_rate</th>\n",
              "      <th>dst_host_count</th>\n",
              "      <th>dst_host_srv_count</th>\n",
              "      <th>dst_host_same_srv_rate</th>\n",
              "      <th>dst_host_diff_srv_rate</th>\n",
              "      <th>dst_host_same_src_port_rate</th>\n",
              "      <th>dst_host_srv_diff_host_rate</th>\n",
              "      <th>dst_host_serror_rate</th>\n",
              "      <th>dst_host_srv_serror_rate</th>\n",
              "      <th>dst_host_rerror_rate</th>\n",
              "      <th>dst_host_srv_rerror_rate</th>\n",
              "      <th>target</th>\n",
              "      <th>Attack Type</th>\n",
              "    </tr>\n",
              "  </thead>\n",
              "  <tbody>\n",
              "    <tr>\n",
              "      <th>0</th>\n",
              "      <td>0</td>\n",
              "      <td>tcp</td>\n",
              "      <td>http</td>\n",
              "      <td>SF</td>\n",
              "      <td>181</td>\n",
              "      <td>5450</td>\n",
              "      <td>0</td>\n",
              "      <td>0</td>\n",
              "      <td>0</td>\n",
              "      <td>0</td>\n",
              "      <td>0</td>\n",
              "      <td>1</td>\n",
              "      <td>0</td>\n",
              "      <td>0</td>\n",
              "      <td>0</td>\n",
              "      <td>0</td>\n",
              "      <td>0</td>\n",
              "      <td>0</td>\n",
              "      <td>0</td>\n",
              "      <td>0</td>\n",
              "      <td>0</td>\n",
              "      <td>0</td>\n",
              "      <td>8</td>\n",
              "      <td>8</td>\n",
              "      <td>0.0</td>\n",
              "      <td>0.0</td>\n",
              "      <td>0.0</td>\n",
              "      <td>0.0</td>\n",
              "      <td>1.0</td>\n",
              "      <td>0.0</td>\n",
              "      <td>0.0</td>\n",
              "      <td>9</td>\n",
              "      <td>9</td>\n",
              "      <td>1.0</td>\n",
              "      <td>0.0</td>\n",
              "      <td>0.11</td>\n",
              "      <td>0.0</td>\n",
              "      <td>0.0</td>\n",
              "      <td>0.0</td>\n",
              "      <td>0.0</td>\n",
              "      <td>0.0</td>\n",
              "      <td>normal.</td>\n",
              "      <td>normal</td>\n",
              "    </tr>\n",
              "    <tr>\n",
              "      <th>1</th>\n",
              "      <td>0</td>\n",
              "      <td>tcp</td>\n",
              "      <td>http</td>\n",
              "      <td>SF</td>\n",
              "      <td>239</td>\n",
              "      <td>486</td>\n",
              "      <td>0</td>\n",
              "      <td>0</td>\n",
              "      <td>0</td>\n",
              "      <td>0</td>\n",
              "      <td>0</td>\n",
              "      <td>1</td>\n",
              "      <td>0</td>\n",
              "      <td>0</td>\n",
              "      <td>0</td>\n",
              "      <td>0</td>\n",
              "      <td>0</td>\n",
              "      <td>0</td>\n",
              "      <td>0</td>\n",
              "      <td>0</td>\n",
              "      <td>0</td>\n",
              "      <td>0</td>\n",
              "      <td>8</td>\n",
              "      <td>8</td>\n",
              "      <td>0.0</td>\n",
              "      <td>0.0</td>\n",
              "      <td>0.0</td>\n",
              "      <td>0.0</td>\n",
              "      <td>1.0</td>\n",
              "      <td>0.0</td>\n",
              "      <td>0.0</td>\n",
              "      <td>19</td>\n",
              "      <td>19</td>\n",
              "      <td>1.0</td>\n",
              "      <td>0.0</td>\n",
              "      <td>0.05</td>\n",
              "      <td>0.0</td>\n",
              "      <td>0.0</td>\n",
              "      <td>0.0</td>\n",
              "      <td>0.0</td>\n",
              "      <td>0.0</td>\n",
              "      <td>normal.</td>\n",
              "      <td>normal</td>\n",
              "    </tr>\n",
              "    <tr>\n",
              "      <th>2</th>\n",
              "      <td>0</td>\n",
              "      <td>tcp</td>\n",
              "      <td>http</td>\n",
              "      <td>SF</td>\n",
              "      <td>235</td>\n",
              "      <td>1337</td>\n",
              "      <td>0</td>\n",
              "      <td>0</td>\n",
              "      <td>0</td>\n",
              "      <td>0</td>\n",
              "      <td>0</td>\n",
              "      <td>1</td>\n",
              "      <td>0</td>\n",
              "      <td>0</td>\n",
              "      <td>0</td>\n",
              "      <td>0</td>\n",
              "      <td>0</td>\n",
              "      <td>0</td>\n",
              "      <td>0</td>\n",
              "      <td>0</td>\n",
              "      <td>0</td>\n",
              "      <td>0</td>\n",
              "      <td>8</td>\n",
              "      <td>8</td>\n",
              "      <td>0.0</td>\n",
              "      <td>0.0</td>\n",
              "      <td>0.0</td>\n",
              "      <td>0.0</td>\n",
              "      <td>1.0</td>\n",
              "      <td>0.0</td>\n",
              "      <td>0.0</td>\n",
              "      <td>29</td>\n",
              "      <td>29</td>\n",
              "      <td>1.0</td>\n",
              "      <td>0.0</td>\n",
              "      <td>0.03</td>\n",
              "      <td>0.0</td>\n",
              "      <td>0.0</td>\n",
              "      <td>0.0</td>\n",
              "      <td>0.0</td>\n",
              "      <td>0.0</td>\n",
              "      <td>normal.</td>\n",
              "      <td>normal</td>\n",
              "    </tr>\n",
              "    <tr>\n",
              "      <th>3</th>\n",
              "      <td>0</td>\n",
              "      <td>tcp</td>\n",
              "      <td>http</td>\n",
              "      <td>SF</td>\n",
              "      <td>219</td>\n",
              "      <td>1337</td>\n",
              "      <td>0</td>\n",
              "      <td>0</td>\n",
              "      <td>0</td>\n",
              "      <td>0</td>\n",
              "      <td>0</td>\n",
              "      <td>1</td>\n",
              "      <td>0</td>\n",
              "      <td>0</td>\n",
              "      <td>0</td>\n",
              "      <td>0</td>\n",
              "      <td>0</td>\n",
              "      <td>0</td>\n",
              "      <td>0</td>\n",
              "      <td>0</td>\n",
              "      <td>0</td>\n",
              "      <td>0</td>\n",
              "      <td>6</td>\n",
              "      <td>6</td>\n",
              "      <td>0.0</td>\n",
              "      <td>0.0</td>\n",
              "      <td>0.0</td>\n",
              "      <td>0.0</td>\n",
              "      <td>1.0</td>\n",
              "      <td>0.0</td>\n",
              "      <td>0.0</td>\n",
              "      <td>39</td>\n",
              "      <td>39</td>\n",
              "      <td>1.0</td>\n",
              "      <td>0.0</td>\n",
              "      <td>0.03</td>\n",
              "      <td>0.0</td>\n",
              "      <td>0.0</td>\n",
              "      <td>0.0</td>\n",
              "      <td>0.0</td>\n",
              "      <td>0.0</td>\n",
              "      <td>normal.</td>\n",
              "      <td>normal</td>\n",
              "    </tr>\n",
              "    <tr>\n",
              "      <th>4</th>\n",
              "      <td>0</td>\n",
              "      <td>tcp</td>\n",
              "      <td>http</td>\n",
              "      <td>SF</td>\n",
              "      <td>217</td>\n",
              "      <td>2032</td>\n",
              "      <td>0</td>\n",
              "      <td>0</td>\n",
              "      <td>0</td>\n",
              "      <td>0</td>\n",
              "      <td>0</td>\n",
              "      <td>1</td>\n",
              "      <td>0</td>\n",
              "      <td>0</td>\n",
              "      <td>0</td>\n",
              "      <td>0</td>\n",
              "      <td>0</td>\n",
              "      <td>0</td>\n",
              "      <td>0</td>\n",
              "      <td>0</td>\n",
              "      <td>0</td>\n",
              "      <td>0</td>\n",
              "      <td>6</td>\n",
              "      <td>6</td>\n",
              "      <td>0.0</td>\n",
              "      <td>0.0</td>\n",
              "      <td>0.0</td>\n",
              "      <td>0.0</td>\n",
              "      <td>1.0</td>\n",
              "      <td>0.0</td>\n",
              "      <td>0.0</td>\n",
              "      <td>49</td>\n",
              "      <td>49</td>\n",
              "      <td>1.0</td>\n",
              "      <td>0.0</td>\n",
              "      <td>0.02</td>\n",
              "      <td>0.0</td>\n",
              "      <td>0.0</td>\n",
              "      <td>0.0</td>\n",
              "      <td>0.0</td>\n",
              "      <td>0.0</td>\n",
              "      <td>normal.</td>\n",
              "      <td>normal</td>\n",
              "    </tr>\n",
              "  </tbody>\n",
              "</table>\n",
              "</div>"
            ],
            "text/plain": [
              "   duration protocol_type  ...   target Attack Type\n",
              "0         0           tcp  ...  normal.      normal\n",
              "1         0           tcp  ...  normal.      normal\n",
              "2         0           tcp  ...  normal.      normal\n",
              "3         0           tcp  ...  normal.      normal\n",
              "4         0           tcp  ...  normal.      normal\n",
              "\n",
              "[5 rows x 43 columns]"
            ]
          },
          "metadata": {
            "tags": []
          },
          "execution_count": 6
        }
      ]
    },
    {
      "cell_type": "code",
      "metadata": {
        "colab": {
          "base_uri": "https://localhost:8080/"
        },
        "id": "AetWENxBhjFR",
        "outputId": "19f6566d-7c30-43e2-fd89-abdae0f38d08"
      },
      "source": [
        "at.isnull().sum()"
      ],
      "execution_count": null,
      "outputs": [
        {
          "output_type": "execute_result",
          "data": {
            "text/plain": [
              "duration                       0\n",
              "protocol_type                  0\n",
              "service                        0\n",
              "flag                           0\n",
              "src_bytes                      0\n",
              "dst_bytes                      0\n",
              "land                           0\n",
              "wrong_fragment                 0\n",
              "urgent                         0\n",
              "hot                            0\n",
              "num_failed_logins              0\n",
              "logged_in                      0\n",
              "num_compromised                0\n",
              "root_shell                     0\n",
              "su_attempted                   0\n",
              "num_root                       0\n",
              "num_file_creations             0\n",
              "num_shells                     0\n",
              "num_access_files               0\n",
              "num_outbound_cmds              0\n",
              "is_host_login                  0\n",
              "is_guest_login                 0\n",
              "count                          0\n",
              "srv_count                      0\n",
              "serror_rate                    0\n",
              "srv_serror_rate                0\n",
              "rerror_rate                    0\n",
              "srv_rerror_rate                0\n",
              "same_srv_rate                  0\n",
              "diff_srv_rate                  0\n",
              "srv_diff_host_rate             0\n",
              "dst_host_count                 0\n",
              "dst_host_srv_count             0\n",
              "dst_host_same_srv_rate         0\n",
              "dst_host_diff_srv_rate         0\n",
              "dst_host_same_src_port_rate    0\n",
              "dst_host_srv_diff_host_rate    0\n",
              "dst_host_serror_rate           0\n",
              "dst_host_srv_serror_rate       0\n",
              "dst_host_rerror_rate           0\n",
              "dst_host_srv_rerror_rate       0\n",
              "target                         0\n",
              "Attack Type                    0\n",
              "dtype: int64"
            ]
          },
          "metadata": {
            "tags": []
          },
          "execution_count": 7
        }
      ]
    },
    {
      "cell_type": "code",
      "metadata": {
        "colab": {
          "base_uri": "https://localhost:8080/"
        },
        "id": "Clj27mgZhybn",
        "outputId": "51bf4194-59ed-45f9-b23d-cbc79ec8a2b2"
      },
      "source": [
        "num_data = at._get_numeric_data().columns   \r\n",
        "cat_data = list(set(at.columns)-set(num_data)) \r\n",
        "cat_data.remove('target') \r\n",
        "cat_data.remove('Attack Type') \r\n",
        "cat_data"
      ],
      "execution_count": null,
      "outputs": [
        {
          "output_type": "execute_result",
          "data": {
            "text/plain": [
              "['flag', 'service', 'protocol_type']"
            ]
          },
          "metadata": {
            "tags": []
          },
          "execution_count": 8
        }
      ]
    },
    {
      "cell_type": "code",
      "metadata": {
        "colab": {
          "base_uri": "https://localhost:8080/",
          "height": 512
        },
        "id": "v8v-Osb9k2Pp",
        "outputId": "ad47d4d7-5b89-4a6a-b46f-86e786e12bb9"
      },
      "source": [
        "at = at.dropna('columns')\r\n",
        "at = at[[col for col in at if at[col].nunique() > 1]] \r\n",
        "corr = at.corr() \r\n",
        "plt.figure(figsize =(8, 6)) \r\n",
        "sns.heatmap(corr) \r\n",
        "plt.show() "
      ],
      "execution_count": null,
      "outputs": [
        {
          "output_type": "display_data",
          "data": {
            "image/png": "[encoded data removed]",
            "text/plain": [
              "<Figure size 576x432 with 2 Axes>"
            ]
          },
          "metadata": {
            "tags": [],
            "needs_background": "light"
          }
        }
      ]
    },
    {
      "cell_type": "code",
      "metadata": {
        "id": "IbgGsK9U1yBF"
      },
      "source": [
        "at.drop('num_root', axis = 1, inplace = True)\r\n",
        "at.drop('srv_serror_rate', axis = 1, inplace = True)\r\n",
        "at.drop('srv_rerror_rate', axis = 1, inplace = True)\r\n",
        "at.drop('dst_host_srv_serror_rate', axis = 1, inplace = True)\r\n",
        "at.drop('dst_host_serror_rate', axis = 1, inplace = True) \r\n",
        "at.drop('dst_host_rerror_rate', axis = 1, inplace = True) \r\n",
        "at.drop('dst_host_srv_rerror_rate', axis = 1, inplace = True) \r\n",
        "at.drop('dst_host_same_srv_rate', axis = 1, inplace = True) "
      ],
      "execution_count": null,
      "outputs": []
    },
    {
      "cell_type": "code",
      "metadata": {
        "id": "Xxsp3kFB35zH"
      },
      "source": [
        "pmap = {'icmp':0, 'tcp':1, 'udp':2} \r\n",
        "at['protocol_type'] = at['protocol_type'].map(pmap) \r\n",
        "fmap = {'SF':0, 'S0':1, 'REJ':2, 'RSTR':3, 'RSTO':4, 'SH':5, 'S1':6, 'S2':7, 'RSTOS0':8, 'S3':9, 'OTH':10} \r\n",
        "at['flag'] =at['flag'].map(fmap)\r\n",
        "at.drop('service', axis = 1, inplace = True)"
      ],
      "execution_count": null,
      "outputs": []
    },
    {
      "cell_type": "markdown",
      "metadata": {
        "id": "LbpBuGEf4tOI"
      },
      "source": [
        "**Modelling**"
      ]
    },
    {
      "cell_type": "code",
      "metadata": {
        "colab": {
          "base_uri": "https://localhost:8080/"
        },
        "id": "H1kavVSbDezl",
        "outputId": "39142ef5-7d61-41a2-adec-c2822d5fade7"
      },
      "source": [
        "len(at.columns)"
      ],
      "execution_count": null,
      "outputs": [
        {
          "output_type": "execute_result",
          "data": {
            "text/plain": [
              "32"
            ]
          },
          "metadata": {
            "tags": []
          },
          "execution_count": 12
        }
      ]
    },
    {
      "cell_type": "code",
      "metadata": {
        "colab": {
          "base_uri": "https://localhost:8080/"
        },
        "id": "1eOSkDra4v64",
        "outputId": "fdcae771-bf28-4173-d822-b0e65d18e9dd"
      },
      "source": [
        "at = at.drop(['target', ], axis = 1) \r\n",
        "Y = at.iloc[:,30:]\r\n",
        "X = at.iloc[:,0:30]\r\n",
        "print(X.shape,Y.shape) "
      ],
      "execution_count": null,
      "outputs": [
        {
          "output_type": "stream",
          "text": [
            "(494021, 30) (494021, 1)\n"
          ],
          "name": "stdout"
        }
      ]
    },
    {
      "cell_type": "code",
      "metadata": {
        "colab": {
          "base_uri": "https://localhost:8080/"
        },
        "id": "7TSwHgqH82Hm",
        "outputId": "0faa6905-1d3b-4b05-f19e-5153b3ec7cdf"
      },
      "source": [
        "X_train, X_test, Y_train, Y_test = train_test_split(X, Y, test_size = 0.33, random_state = 0)\r\n",
        "print(X_train.shape, X_test.shape, Y_train.shape, Y_test.shape)"
      ],
      "execution_count": null,
      "outputs": [
        {
          "output_type": "stream",
          "text": [
            "(330994, 30) (163027, 30) (330994, 1) (163027, 1)\n"
          ],
          "name": "stdout"
        }
      ]
    },
    {
      "cell_type": "code",
      "metadata": {
        "id": "BU-1vvHm8wDV"
      },
      "source": [
        "model = MinMaxScaler()\r\n",
        "X=model.fit_transform(X)"
      ],
      "execution_count": null,
      "outputs": []
    },
    {
      "cell_type": "markdown",
      "metadata": {
        "id": "PwFBNf79AG7h"
      },
      "source": [
        "**MLP**"
      ]
    },
    {
      "cell_type": "code",
      "metadata": {
        "colab": {
          "base_uri": "https://localhost:8080/"
        },
        "id": "IIGLuYEWAEUm",
        "outputId": "b7dea76e-6385-42a8-9d3c-ebe414e7add6"
      },
      "source": [
        "from sklearn.neural_network import MLPClassifier\r\n",
        "from sklearn.metrics import accuracy_score \r\n",
        "from sklearn.metrics import confusion_matrix\r\n",
        "def accuracy(confusion_matrix):\r\n",
        "   diagonal_sum = confusion_matrix.trace()\r\n",
        "   sum_of_all_elements = confusion_matrix.sum()\r\n",
        "   return diagonal_sum / sum_of_all_elements\r\n",
        "mlp=MLPClassifier(hidden_layer_sizes=(5,2), alpha=1e-5,activation = 'relu',solver='lbfgs',random_state=1)\r\n",
        "mlp.fit(X_train, Y_train)"
      ],
      "execution_count": null,
      "outputs": [
        {
          "output_type": "stream",
          "text": [
            "/usr/local/lib/python3.6/dist-packages/sklearn/neural_network/_multilayer_perceptron.py:934: DataConversionWarning: A column-vector y was passed when a 1d array was expected. Please change the shape of y to (n_samples, ), for example using ravel().\n",
            "  y = column_or_1d(y, warn=True)\n"
          ],
          "name": "stderr"
        },
        {
          "output_type": "execute_result",
          "data": {
            "text/plain": [
              "MLPClassifier(activation='relu', alpha=1e-05, batch_size='auto', beta_1=0.9,\n",
              "              beta_2=0.999, early_stopping=False, epsilon=1e-08,\n",
              "              hidden_layer_sizes=(5, 2), learning_rate='constant',\n",
              "              learning_rate_init=0.001, max_fun=15000, max_iter=200,\n",
              "              momentum=0.9, n_iter_no_change=10, nesterovs_momentum=True,\n",
              "              power_t=0.5, random_state=1, shuffle=True, solver='lbfgs',\n",
              "              tol=0.0001, validation_fraction=0.1, verbose=False,\n",
              "              warm_start=False)"
            ]
          },
          "metadata": {
            "tags": []
          },
          "execution_count": 16
        }
      ]
    },
    {
      "cell_type": "code",
      "metadata": {
        "colab": {
          "base_uri": "https://localhost:8080/"
        },
        "id": "2PDRaQ-XJKu6",
        "outputId": "fbf8de6c-9c62-4718-89a2-4ad73b483763"
      },
      "source": [
        "start = time.time() \r\n",
        "mlp.fit(X_train, Y_train.values.ravel()) \r\n",
        "end= time.time() \r\n",
        "print(\"Training time: \", end-start) "
      ],
      "execution_count": null,
      "outputs": [
        {
          "output_type": "stream",
          "text": [
            "Training time:  4.528377532958984\n"
          ],
          "name": "stdout"
        }
      ]
    },
    {
      "cell_type": "code",
      "metadata": {
        "colab": {
          "base_uri": "https://localhost:8080/"
        },
        "id": "5jBjY07gJfhQ",
        "outputId": "067ccc24-132b-4325-eb87-4eb8aebac19b"
      },
      "source": [
        "start= time.time() \r\n",
        "Y_pred = mlp.predict(X_test) \r\n",
        "end = time.time() \r\n",
        "print(\"Testing time: \", end-start)\r\n",
        "cm = confusion_matrix(Y_pred, Y_test)  "
      ],
      "execution_count": null,
      "outputs": [
        {
          "output_type": "stream",
          "text": [
            "Testing time:  0.12661194801330566\n"
          ],
          "name": "stdout"
        }
      ]
    },
    {
      "cell_type": "code",
      "metadata": {
        "colab": {
          "base_uri": "https://localhost:8080/"
        },
        "id": "nsP3HUa_G3Cj",
        "outputId": "4e02790a-6e2f-4b8c-9215-49fa3844e76a"
      },
      "source": [
        "print(accuracy(cm))"
      ],
      "execution_count": null,
      "outputs": [
        {
          "output_type": "stream",
          "text": [
            "0.8050445631705178\n"
          ],
          "name": "stdout"
        }
      ]
    },
    {
      "cell_type": "markdown",
      "metadata": {
        "id": "ENe3ehEBHKiX"
      },
      "source": [
        "**Random Forest Classifier**"
      ]
    },
    {
      "cell_type": "code",
      "metadata": {
        "colab": {
          "base_uri": "https://localhost:8080/"
        },
        "id": "-4bQfcCbHjzd",
        "outputId": "e0e56536-5b93-48d5-ffd7-3fc31d9b87d8"
      },
      "source": [
        "from sklearn.ensemble import RandomForestClassifier \r\n",
        "  \r\n",
        "rf = RandomForestClassifier(n_estimators = 50) \r\n",
        "start = time.time() \r\n",
        "rf.fit(X_train, Y_train.values.ravel()) \r\n",
        "end = time.time() \r\n",
        "print(\"Training time: \", end-start)   \r\n"
      ],
      "execution_count": null,
      "outputs": [
        {
          "output_type": "stream",
          "text": [
            "Training time:  10.53995656967163\n"
          ],
          "name": "stdout"
        }
      ]
    },
    {
      "cell_type": "code",
      "metadata": {
        "colab": {
          "base_uri": "https://localhost:8080/"
        },
        "id": "nMiJwuz5Kj9S",
        "outputId": "5ba1c1de-49e3-444e-d2c5-e24414120120"
      },
      "source": [
        "start= time.time() \r\n",
        "Y_pred = rf.predict(X_test) \r\n",
        "end = time.time() \r\n",
        "print(\"Testing time: \", end-start) "
      ],
      "execution_count": null,
      "outputs": [
        {
          "output_type": "stream",
          "text": [
            "Testing time:  0.8401989936828613\n"
          ],
          "name": "stdout"
        }
      ]
    },
    {
      "cell_type": "code",
      "metadata": {
        "colab": {
          "base_uri": "https://localhost:8080/"
        },
        "id": "86U5Bm38IlPl",
        "outputId": "02ed1c21-ff8f-439b-9e1f-31f6f9ec9304"
      },
      "source": [
        "print(\"Train score is:\", rf.score(X_train, Y_train)) \r\n",
        "print(\"Test score is:\", rf.score(X_test, Y_test)) "
      ],
      "execution_count": null,
      "outputs": [
        {
          "output_type": "stream",
          "text": [
            "Train score is: 1.0\n",
            "Test score is: 0.9997669097756813\n"
          ],
          "name": "stdout"
        }
      ]
    },
    {
      "cell_type": "markdown",
      "metadata": {
        "id": "1xuqhD9DK7vL"
      },
      "source": [
        "**Naive Bayes Classifier**"
      ]
    },
    {
      "cell_type": "code",
      "metadata": {
        "colab": {
          "base_uri": "https://localhost:8080/"
        },
        "id": "iGY4fOTcK_tm",
        "outputId": "14a564c1-ab54-43e4-d6b1-3452e85c742a"
      },
      "source": [
        "from sklearn.naive_bayes import GaussianNB \r\n",
        "nb = GaussianNB() \r\n",
        "start = time.time() \r\n",
        "nb.fit(X_train, Y_train.values.ravel()) \r\n",
        "end = time.time() \r\n",
        "print(\"Training time: \", end-start)"
      ],
      "execution_count": null,
      "outputs": [
        {
          "output_type": "stream",
          "text": [
            "Training time:  0.6406667232513428\n"
          ],
          "name": "stdout"
        }
      ]
    },
    {
      "cell_type": "code",
      "metadata": {
        "colab": {
          "base_uri": "https://localhost:8080/"
        },
        "id": "H3-iaD8ELk0v",
        "outputId": "cde12ef2-d02b-4594-bf5d-64ccd8809dde"
      },
      "source": [
        "start= time.time() \r\n",
        "Y_pred = nb.predict(X_test) \r\n",
        "end = time.time() \r\n",
        "print(\"Testing time: \", end-start) "
      ],
      "execution_count": null,
      "outputs": [
        {
          "output_type": "stream",
          "text": [
            "Testing time:  0.16089129447937012\n"
          ],
          "name": "stdout"
        }
      ]
    },
    {
      "cell_type": "code",
      "metadata": {
        "colab": {
          "base_uri": "https://localhost:8080/"
        },
        "id": "PPgK_Az7LnI2",
        "outputId": "00e31c88-4624-4cdf-d3f2-ddd71f850fc2"
      },
      "source": [
        "print(\"Train score is:\", nb.score(X_train, Y_train)) \r\n",
        "print(\"Test score is:\", nb.score(X_test, Y_test)) "
      ],
      "execution_count": null,
      "outputs": [
        {
          "output_type": "stream",
          "text": [
            "Train score is: 0.8060418013619582\n",
            "Test score is: 0.8072098486753728\n"
          ],
          "name": "stdout"
        }
      ]
    },
    {
      "cell_type": "markdown",
      "metadata": {
        "id": "_r6Gsoc5L0oS"
      },
      "source": [
        "**Decision Tree Classifier**"
      ]
    },
    {
      "cell_type": "code",
      "metadata": {
        "colab": {
          "base_uri": "https://localhost:8080/"
        },
        "id": "KnvxfS8LL5lo",
        "outputId": "2d50008b-44b2-4fe4-c76c-c5a07dedee56"
      },
      "source": [
        "from sklearn.tree import DecisionTreeClassifier \r\n",
        "dt = DecisionTreeClassifier(criterion =\"entropy\", max_depth = 4)\r\n",
        "start = time.time() \r\n",
        "dt.fit(X_train, Y_train.values.ravel()) \r\n",
        "end = time.time() \r\n",
        "print(\"Training time: \", end-start)"
      ],
      "execution_count": null,
      "outputs": [
        {
          "output_type": "stream",
          "text": [
            "Training time:  1.004072904586792\n"
          ],
          "name": "stdout"
        }
      ]
    },
    {
      "cell_type": "code",
      "metadata": {
        "colab": {
          "base_uri": "https://localhost:8080/"
        },
        "id": "CXdajqDiMaFH",
        "outputId": "7ec9d0c3-a2fb-4b6f-83bc-f36a9a1b03ac"
      },
      "source": [
        "start= time.time() \r\n",
        "Y_pred = dt.predict(X_test) \r\n",
        "end = time.time() \r\n",
        "print(\"Testing time: \", end-start)"
      ],
      "execution_count": null,
      "outputs": [
        {
          "output_type": "stream",
          "text": [
            "Testing time:  0.03818964958190918\n"
          ],
          "name": "stdout"
        }
      ]
    },
    {
      "cell_type": "code",
      "metadata": {
        "colab": {
          "base_uri": "https://localhost:8080/"
        },
        "id": "qcY-Jjq3MePa",
        "outputId": "ff2f74dd-a8cd-4367-8d9b-9be0423ecd8f"
      },
      "source": [
        "print(\"Train score :\", dt.score(X_train, Y_train)) \r\n",
        "print(\"Test score :\", dt.score(X_test, Y_test))"
      ],
      "execution_count": null,
      "outputs": [
        {
          "output_type": "stream",
          "text": [
            "Train score : 0.9938548735022387\n",
            "Test score : 0.9939028504480852\n"
          ],
          "name": "stdout"
        }
      ]
    },
    {
      "cell_type": "markdown",
      "metadata": {
        "id": "aeNt4RB4Mj5r"
      },
      "source": [
        "**K-Means Clustering**"
      ]
    },
    {
      "cell_type": "code",
      "metadata": {
        "id": "mjiv7j7OMqrK"
      },
      "source": [
        "from sklearn.cluster import KMeans\r\n",
        "kmeans = KMeans(n_clusters=2)"
      ],
      "execution_count": null,
      "outputs": []
    },
    {
      "cell_type": "code",
      "metadata": {
        "colab": {
          "base_uri": "https://localhost:8080/"
        },
        "id": "gTlloa5zmpAW",
        "outputId": "86547d73-6a7a-4575-897a-f59f7f5022e9"
      },
      "source": [
        "start = time.time() \r\n",
        "kmeans.fit(X_train)\r\n",
        "end = time.time() \r\n",
        "print(\"Training time: \", end-start)"
      ],
      "execution_count": null,
      "outputs": [
        {
          "output_type": "stream",
          "text": [
            "Training time:  2.1383438110351562\n"
          ],
          "name": "stdout"
        }
      ]
    },
    {
      "cell_type": "code",
      "metadata": {
        "colab": {
          "base_uri": "https://localhost:8080/"
        },
        "id": "bnpknqBBhpA3",
        "outputId": "0a75fceb-b204-45b2-eea8-2cbf96572af6"
      },
      "source": [
        "start= time.time() \r\n",
        "train_cluster = kmeans.predict(X_train)\r\n",
        "test_cluster = kmeans.predict(X_test) \r\n",
        "end = time.time() \r\n",
        "print(\"Testing time: \", end-start)"
      ],
      "execution_count": null,
      "outputs": [
        {
          "output_type": "stream",
          "text": [
            "Testing time:  0.184586763381958\n"
          ],
          "name": "stdout"
        }
      ]
    },
    {
      "cell_type": "code",
      "metadata": {
        "colab": {
          "base_uri": "https://localhost:8080/"
        },
        "id": "r_vUny2uAa9b",
        "outputId": "0abb4b59-a566-48d4-96eb-39498a71a121"
      },
      "source": [
        "cm = confusion_matrix(Y_pred, Y_test)\r\n",
        "print(accuracy(cm))"
      ],
      "execution_count": null,
      "outputs": [
        {
          "output_type": "stream",
          "text": [
            "0.9939028504480852\n"
          ],
          "name": "stdout"
        }
      ]
    },
    {
      "cell_type": "markdown",
      "metadata": {
        "id": "cx7PJ21osfD0"
      },
      "source": [
        "**SVM**"
      ]
    },
    {
      "cell_type": "code",
      "metadata": {
        "colab": {
          "base_uri": "https://localhost:8080/"
        },
        "id": "1q6ZlS-4wkYl",
        "outputId": "2a4d1190-f033-412f-f824-59527aa8f06c"
      },
      "source": [
        "from sklearn.svm import SVC  \r\n",
        "sv = SVC(gamma='scale')\r\n",
        "start = time.time() \r\n",
        "sv.fit(X_train, Y_train.values.ravel()) \r\n",
        "end = time.time() \r\n",
        "print(\"Training time: \", end-start)"
      ],
      "execution_count": null,
      "outputs": [
        {
          "output_type": "stream",
          "text": [
            "Training time:  2403.339481115341\n"
          ],
          "name": "stdout"
        }
      ]
    },
    {
      "cell_type": "code",
      "metadata": {
        "colab": {
          "base_uri": "https://localhost:8080/"
        },
        "id": "1lqfNEyIw60l",
        "outputId": "c6ad6f4c-6ac2-48c9-9867-aaa80d6b3d12"
      },
      "source": [
        "start= time.time() \r\n",
        "Y_pred = sv.predict(X_test) \r\n",
        "end = time.time() \r\n",
        "print(\"Testing time: \", end-start)"
      ],
      "execution_count": null,
      "outputs": [
        {
          "output_type": "stream",
          "text": [
            "Testing time:  761.3405742645264\n"
          ],
          "name": "stdout"
        }
      ]
    },
    {
      "cell_type": "code",
      "metadata": {
        "colab": {
          "base_uri": "https://localhost:8080/"
        },
        "id": "VI6Mulapw-ur",
        "outputId": "cb0525ba-3f41-4b49-f65a-5dc1e9e322c3"
      },
      "source": [
        "print(\"Train score :\", sv.score(X_train, Y_train)) \r\n",
        "print(\"Test score :\", sv.score(X_test, Y_test))"
      ],
      "execution_count": null,
      "outputs": [
        {
          "output_type": "stream",
          "text": [
            "Train score : 0.946926530390279\n",
            "Test score : 0.9481374250890957\n"
          ],
          "name": "stdout"
        }
      ]
    },
    {
      "cell_type": "markdown",
      "metadata": {
        "id": "Sx_jDlvyt-tq"
      },
      "source": [
        "**Gradient Descent**"
      ]
    },
    {
      "cell_type": "code",
      "metadata": {
        "colab": {
          "base_uri": "https://localhost:8080/"
        },
        "id": "LxcJEDJ22zTc",
        "outputId": "6f16f746-c9e8-44d1-c494-6d562f4035fc"
      },
      "source": [
        "from sklearn.ensemble import GradientBoostingClassifier \r\n",
        "gd = GradientBoostingClassifier(random_state = 0)\r\n",
        "start= time.time() \r\n",
        "gd.fit(X_train, Y_train.values.ravel()) \r\n",
        "end = time.time() \r\n",
        "print(\"Training time: \", end-start)"
      ],
      "execution_count": null,
      "outputs": [
        {
          "output_type": "stream",
          "text": [
            "Training time:  261.9018745422363\n"
          ],
          "name": "stdout"
        }
      ]
    },
    {
      "cell_type": "code",
      "metadata": {
        "colab": {
          "base_uri": "https://localhost:8080/"
        },
        "id": "yaZdDMrazsiT",
        "outputId": "6d7e50ae-8683-4e47-ec73-2d5669db2ac4"
      },
      "source": [
        "start= time.time() \r\n",
        "Y_pred =gd.predict(X_test) \r\n",
        "end = time.time() \r\n",
        "print(\"Testing time: \", end-start)"
      ],
      "execution_count": null,
      "outputs": [
        {
          "output_type": "stream",
          "text": [
            "Testing time:  1.3920230865478516\n"
          ],
          "name": "stdout"
        }
      ]
    },
    {
      "cell_type": "code",
      "metadata": {
        "colab": {
          "base_uri": "https://localhost:8080/"
        },
        "id": "Jwfsrz26zuIq",
        "outputId": "934aa061-617b-4c15-f286-6228219d95bb"
      },
      "source": [
        "print(\"Train score is:\",gd.score(X_train, Y_train)) \r\n",
        "print(\"Test score is:\", gd.score(X_test, Y_test))"
      ],
      "execution_count": null,
      "outputs": [
        {
          "output_type": "stream",
          "text": [
            "Train score is: 0.999359505006133\n",
            "Test score is: 0.9991596484017985\n"
          ],
          "name": "stdout"
        }
      ]
    },
    {
      "cell_type": "markdown",
      "metadata": {
        "id": "j8mzT6op1PCr"
      },
      "source": [
        "**Logistic Regression**"
      ]
    },
    {
      "cell_type": "code",
      "metadata": {
        "colab": {
          "base_uri": "https://localhost:8080/"
        },
        "id": "9jqd9_GR8VOw",
        "outputId": "6e56aab0-673a-4a46-cbfc-0fa1b58206b0"
      },
      "source": [
        "from sklearn.linear_model import LogisticRegression  \r\n",
        "lr = LogisticRegression(max_iter = 1500000)\r\n",
        "start= time.time() \r\n",
        "lr.fit(X_train, Y_train.values.ravel()) \r\n",
        "end = time.time() \r\n",
        "print(\"Training time: \", end-start)"
      ],
      "execution_count": null,
      "outputs": [
        {
          "output_type": "stream",
          "text": [
            "Training time:  3456.5491483211517\n"
          ],
          "name": "stdout"
        },
        {
          "output_type": "stream",
          "text": [
            "/usr/local/lib/python3.6/dist-packages/sklearn/linear_model/_logistic.py:940: ConvergenceWarning: lbfgs failed to converge (status=1):\n",
            "STOP: TOTAL NO. of f AND g EVALUATIONS EXCEEDS LIMIT.\n",
            "\n",
            "Increase the number of iterations (max_iter) or scale the data as shown in:\n",
            "    https://scikit-learn.org/stable/modules/preprocessing.html\n",
            "Please also refer to the documentation for alternative solver options:\n",
            "    https://scikit-learn.org/stable/modules/linear_model.html#logistic-regression\n",
            "  extra_warning_msg=_LOGISTIC_SOLVER_CONVERGENCE_MSG)\n"
          ],
          "name": "stderr"
        }
      ]
    },
    {
      "cell_type": "code",
      "metadata": {
        "colab": {
          "base_uri": "https://localhost:8080/"
        },
        "id": "A7GWfhGI2JIR",
        "outputId": "6ac7bb67-1a14-4b08-8fbd-ad8898a73abf"
      },
      "source": [
        "start= time.time() \r\n",
        "Y_pred = lr.predict(X_test) \r\n",
        "end = time.time() \r\n",
        "print(\"Testing time: \", end-start)"
      ],
      "execution_count": null,
      "outputs": [
        {
          "output_type": "stream",
          "text": [
            "Testing time:  0.09039545059204102\n"
          ],
          "name": "stdout"
        }
      ]
    },
    {
      "cell_type": "code",
      "metadata": {
        "colab": {
          "base_uri": "https://localhost:8080/"
        },
        "id": "GuIyuad12LQ5",
        "outputId": "446fd410-9d02-4380-c659-95875fe3aa11"
      },
      "source": [
        "print(\"Train score is:\", lr.score(X_train, Y_train)) \r\n",
        "print(\"Test score is:\", lr.score(X_test, Y_test))"
      ],
      "execution_count": null,
      "outputs": [
        {
          "output_type": "stream",
          "text": [
            "Train score is: 0.985035982525363\n",
            "Test score is: 0.9854073251669969\n"
          ],
          "name": "stdout"
        }
      ]
    },
    {
      "cell_type": "markdown",
      "metadata": {
        "id": "bHbrgLaF_7YN"
      },
      "source": [
        "**Plots**"
      ]
    },
    {
      "cell_type": "markdown",
      "metadata": {
        "id": "hEqqXsMpAF0V"
      },
      "source": [
        "Accuracy"
      ]
    },
    {
      "cell_type": "markdown",
      "metadata": {
        "id": "6zUNttp0djDP"
      },
      "source": [
        "Testing Accuracy"
      ]
    },
    {
      "cell_type": "code",
      "metadata": {
        "colab": {
          "base_uri": "https://localhost:8080/",
          "height": 337
        },
        "id": "xlopwsIh_Ow3",
        "outputId": "2aa6c45c-302c-424e-f983-43980ed1027c"
      },
      "source": [
        "names = ['RF', 'NB', 'DT', 'SVM', 'GB', 'LR'] \r\n",
        "values = [100, 80.604, 99.385, 94.692, 99.935, 98.503] \r\n",
        "f = plt.figure(figsize =(20, 5), num = 10) \r\n",
        "plt.subplot(131) \r\n",
        "plt.bar(names, values)"
      ],
      "execution_count": 19,
      "outputs": [
        {
          "output_type": "execute_result",
          "data": {
            "text/plain": [
              "<BarContainer object of 6 artists>"
            ]
          },
          "metadata": {
            "tags": []
          },
          "execution_count": 19
        },
        {
          "output_type": "display_data",
          "data": {
            "image/png": "[encoded data removed]",
            "text/plain": [
              "<Figure size 1440x360 with 1 Axes>"
            ]
          },
          "metadata": {
            "tags": [],
            "needs_background": "light"
          }
        }
      ]
    },
    {
      "cell_type": "markdown",
      "metadata": {
        "id": "SFoYRnwPdgiK"
      },
      "source": [
        "Training Accuracy"
      ]
    },
    {
      "cell_type": "code",
      "metadata": {
        "colab": {
          "base_uri": "https://localhost:8080/",
          "height": 337
        },
        "id": "V93BvGZU_-bW",
        "outputId": "1868ea9b-34ce-4bfa-a057-8413fa0fcb2f"
      },
      "source": [
        "names =  ['MLP', 'RF', 'NB', 'DT', 'KM', 'SVM', 'GB', 'LR']\r\n",
        "values = [80.504, 99.976, 80.720, 99.390, 99.390, 94.813, 99.915, 98.540] \r\n",
        "f = plt.figure(figsize =(20, 5), num = 10) \r\n",
        "plt.subplot(131) \r\n",
        "plt.bar(names, values)"
      ],
      "execution_count": 20,
      "outputs": [
        {
          "output_type": "execute_result",
          "data": {
            "text/plain": [
              "<BarContainer object of 8 artists>"
            ]
          },
          "metadata": {
            "tags": []
          },
          "execution_count": 20
        },
        {
          "output_type": "display_data",
          "data": {
            "image/png": "[encoded data removed]",
            "text/plain": [
              "<Figure size 1440x360 with 1 Axes>"
            ]
          },
          "metadata": {
            "tags": [],
            "needs_background": "light"
          }
        }
      ]
    },
    {
      "cell_type": "markdown",
      "metadata": {
        "id": "NWgpk83cAK9d"
      },
      "source": [
        "Time"
      ]
    },
    {
      "cell_type": "markdown",
      "metadata": {
        "id": "ffkde5ZLZWYb"
      },
      "source": [
        "Training Time"
      ]
    },
    {
      "cell_type": "code",
      "metadata": {
        "colab": {
          "base_uri": "https://localhost:8080/",
          "height": 500
        },
        "id": "zUjCusTCAMFs",
        "outputId": "5e5615ed-8878-4184-b4ed-2ae9f6341fb9"
      },
      "source": [
        "names = ['MLP', 'RF', 'NB', 'DT', 'KM', 'SVM', 'GB', 'LR'] \r\n",
        "values = [4.52837,10.53995 ,0.64066 ,1.00407 , 2.13834, 2403.33948, 261.90187, 3456.54914] \r\n",
        "f = plt.figure(figsize =(20, 8), num = 10) \r\n",
        "plt.subplot(131) \r\n",
        "plt.bar(names, values)"
      ],
      "execution_count": 21,
      "outputs": [
        {
          "output_type": "execute_result",
          "data": {
            "text/plain": [
              "<BarContainer object of 8 artists>"
            ]
          },
          "metadata": {
            "tags": []
          },
          "execution_count": 21
        },
        {
          "output_type": "display_data",
          "data": {
            "image/png": "[encoded data removed]",
            "text/plain": [
              "<Figure size 1440x576 with 1 Axes>"
            ]
          },
          "metadata": {
            "tags": [],
            "needs_background": "light"
          }
        }
      ]
    },
    {
      "cell_type": "markdown",
      "metadata": {
        "id": "4o-KwQOfZc1A"
      },
      "source": [
        "Testing Time"
      ]
    },
    {
      "cell_type": "code",
      "metadata": {
        "colab": {
          "base_uri": "https://localhost:8080/",
          "height": 609
        },
        "id": "SPtNIGztAPC1",
        "outputId": "aae0a5cd-5730-4d37-cd89-2f98d7b0dd49"
      },
      "source": [
        "names = ['MLP', 'RF', 'NB', 'DT', 'KM', 'SVM', 'GB', 'LR'] \r\n",
        "values = [0.12661 ,0.84019 ,0.16089 ,0.03818 ,0.18458 ,761.34057 ,1.39202 ,0.09039 ] \r\n",
        "f = plt.figure(figsize =(20, 10), num = 10) \r\n",
        "plt.subplot(131) \r\n",
        "plt.bar(names, values) "
      ],
      "execution_count": 22,
      "outputs": [
        {
          "output_type": "execute_result",
          "data": {
            "text/plain": [
              "<BarContainer object of 8 artists>"
            ]
          },
          "metadata": {
            "tags": []
          },
          "execution_count": 22
        },
        {
          "output_type": "display_data",
          "data": {
            "image/png": "[encoded data removed]",
            "text/plain": [
              "<Figure size 1440x720 with 1 Axes>"
            ]
          },
          "metadata": {
            "tags": [],
            "needs_background": "light"
          }
        }
      ]
    }
  ]
}