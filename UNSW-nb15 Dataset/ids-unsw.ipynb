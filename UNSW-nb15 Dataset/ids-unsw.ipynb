{
  "nbformat": 4,
  "nbformat_minor": 0,
  "metadata": {
    "colab": {
      "name": "ids2.ipynb",
      "provenance": [],
      "collapsed_sections": []
    },
    "kernelspec": {
      "name": "python3",
      "display_name": "Python 3"
    }
  },
  "cells": [
    {
      "cell_type": "markdown",
      "metadata": {
        "id": "7OYh5ZYcVdWL"
      },
      "source": [
        "**Pre-Processing**"
      ]
    },
    {
      "cell_type": "code",
      "metadata": {
        "id": "FdTYskZoSRBk"
      },
      "source": [
        "import numpy as np \r\n",
        "import pandas as pd\r\n",
        "import matplotlib.pyplot as plt\r\n",
        "import seaborn as sns\r\n",
        "from scipy import stats\r\n",
        "from sklearn.preprocessing import StandardScaler\r\n",
        "from sklearn.preprocessing import LabelEncoder\r\n",
        "from sklearn.model_selection import train_test_split\r\n",
        "from sklearn.linear_model import LogisticRegression\r\n",
        "from sklearn.svm import SVC\r\n",
        "from sklearn.tree import DecisionTreeClassifier\r\n",
        "from sklearn.ensemble import RandomForestClassifier\r\n",
        "from sklearn.neural_network import MLPClassifier\r\n",
        "from sklearn.cluster import KMeans\r\n",
        "from sklearn.ensemble import GradientBoostingClassifier\r\n",
        "from sklearn.metrics import accuracy_score, confusion_matrix, make_scorer\r\n",
        "import os\r\n",
        "import time"
      ],
      "execution_count": 1,
      "outputs": []
    },
    {
      "cell_type": "markdown",
      "metadata": {
        "id": "bmovz06nJ93h"
      },
      "source": [
        "Reading Dataset"
      ]
    },
    {
      "cell_type": "code",
      "metadata": {
        "colab": {
          "base_uri": "https://localhost:8080/"
        },
        "id": "5ncqVDc3Sqku",
        "outputId": "b38dc271-b6d9-499f-f127-367a6cdd2b12"
      },
      "source": [
        "df=[]\r\n",
        "for i in range(1,5):\r\n",
        "  path='/content/sample_data/UNSW-NB15_{}.csv'\r\n",
        "  df.append(pd.read_csv(path.format(i), header=None))\r\n",
        "data = pd.concat(df).reset_index(drop=True)\r\n",
        "data.shape"
      ],
      "execution_count": 2,
      "outputs": [
        {
          "output_type": "stream",
          "text": [
            "/usr/local/lib/python3.7/dist-packages/IPython/core/interactiveshell.py:2718: DtypeWarning: Columns (1,3,47) have mixed types.Specify dtype option on import or set low_memory=False.\n",
            "  interactivity=interactivity, compiler=compiler, result=result)\n",
            "/usr/local/lib/python3.7/dist-packages/IPython/core/interactiveshell.py:2718: DtypeWarning: Columns (3,39,47) have mixed types.Specify dtype option on import or set low_memory=False.\n",
            "  interactivity=interactivity, compiler=compiler, result=result)\n"
          ],
          "name": "stderr"
        },
        {
          "output_type": "execute_result",
          "data": {
            "text/plain": [
              "(2540047, 49)"
            ]
          },
          "metadata": {
            "tags": []
          },
          "execution_count": 2
        }
      ]
    },
    {
      "cell_type": "code",
      "metadata": {
        "id": "k4r8iwbXlj_k",
        "colab": {
          "base_uri": "https://localhost:8080/",
          "height": 214
        },
        "outputId": "ff341af9-2d78-498d-8e62-4e1347f3e410"
      },
      "source": [
        "data_feat = pd.read_csv('/content/sample_data/NUSW-NB15_features.csv', encoding='ISO-8859-1')\r\n",
        "data_feat['Name'] = data_feat['Name'].apply(lambda x: x.strip().replace(' ', '').lower())\r\n",
        "data.columns = data_feat['Name']\r\n",
        "data.head()"
      ],
      "execution_count": 3,
      "outputs": [
        {
          "output_type": "execute_result",
          "data": {
            "text/html": [
              "<div>\n",
              "<style scoped>\n",
              "    .dataframe tbody tr th:only-of-type {\n",
              "        vertical-align: middle;\n",
              "    }\n",
              "\n",
              "    .dataframe tbody tr th {\n",
              "        vertical-align: top;\n",
              "    }\n",
              "\n",
              "    .dataframe thead th {\n",
              "        text-align: right;\n",
              "    }\n",
              "</style>\n",
              "<table border=\"1\" class=\"dataframe\">\n",
              "  <thead>\n",
              "    <tr style=\"text-align: right;\">\n",
              "      <th>Name</th>\n",
              "      <th>srcip</th>\n",
              "      <th>sport</th>\n",
              "      <th>dstip</th>\n",
              "      <th>dsport</th>\n",
              "      <th>proto</th>\n",
              "      <th>state</th>\n",
              "      <th>dur</th>\n",
              "      <th>sbytes</th>\n",
              "      <th>dbytes</th>\n",
              "      <th>sttl</th>\n",
              "      <th>dttl</th>\n",
              "      <th>sloss</th>\n",
              "      <th>dloss</th>\n",
              "      <th>service</th>\n",
              "      <th>sload</th>\n",
              "      <th>dload</th>\n",
              "      <th>spkts</th>\n",
              "      <th>dpkts</th>\n",
              "      <th>swin</th>\n",
              "      <th>dwin</th>\n",
              "      <th>stcpb</th>\n",
              "      <th>dtcpb</th>\n",
              "      <th>smeansz</th>\n",
              "      <th>dmeansz</th>\n",
              "      <th>trans_depth</th>\n",
              "      <th>res_bdy_len</th>\n",
              "      <th>sjit</th>\n",
              "      <th>djit</th>\n",
              "      <th>stime</th>\n",
              "      <th>ltime</th>\n",
              "      <th>sintpkt</th>\n",
              "      <th>dintpkt</th>\n",
              "      <th>tcprtt</th>\n",
              "      <th>synack</th>\n",
              "      <th>ackdat</th>\n",
              "      <th>is_sm_ips_ports</th>\n",
              "      <th>ct_state_ttl</th>\n",
              "      <th>ct_flw_http_mthd</th>\n",
              "      <th>is_ftp_login</th>\n",
              "      <th>ct_ftp_cmd</th>\n",
              "      <th>ct_srv_src</th>\n",
              "      <th>ct_srv_dst</th>\n",
              "      <th>ct_dst_ltm</th>\n",
              "      <th>ct_src_ltm</th>\n",
              "      <th>ct_src_dport_ltm</th>\n",
              "      <th>ct_dst_sport_ltm</th>\n",
              "      <th>ct_dst_src_ltm</th>\n",
              "      <th>attack_cat</th>\n",
              "      <th>label</th>\n",
              "    </tr>\n",
              "  </thead>\n",
              "  <tbody>\n",
              "    <tr>\n",
              "      <th>0</th>\n",
              "      <td>59.166.0.0</td>\n",
              "      <td>1390</td>\n",
              "      <td>149.171.126.6</td>\n",
              "      <td>53</td>\n",
              "      <td>udp</td>\n",
              "      <td>CON</td>\n",
              "      <td>0.001055</td>\n",
              "      <td>132</td>\n",
              "      <td>164</td>\n",
              "      <td>31</td>\n",
              "      <td>29</td>\n",
              "      <td>0</td>\n",
              "      <td>0</td>\n",
              "      <td>dns</td>\n",
              "      <td>500473.93750</td>\n",
              "      <td>621800.93750</td>\n",
              "      <td>2</td>\n",
              "      <td>2</td>\n",
              "      <td>0</td>\n",
              "      <td>0</td>\n",
              "      <td>0</td>\n",
              "      <td>0</td>\n",
              "      <td>66</td>\n",
              "      <td>82</td>\n",
              "      <td>0</td>\n",
              "      <td>0</td>\n",
              "      <td>0.00000</td>\n",
              "      <td>0.000000</td>\n",
              "      <td>1421927414</td>\n",
              "      <td>1421927414</td>\n",
              "      <td>0.017</td>\n",
              "      <td>0.013000</td>\n",
              "      <td>0.0</td>\n",
              "      <td>0.0</td>\n",
              "      <td>0.0</td>\n",
              "      <td>0</td>\n",
              "      <td>0</td>\n",
              "      <td>0.0</td>\n",
              "      <td>0.0</td>\n",
              "      <td>0</td>\n",
              "      <td>3</td>\n",
              "      <td>7</td>\n",
              "      <td>1</td>\n",
              "      <td>3</td>\n",
              "      <td>1</td>\n",
              "      <td>1</td>\n",
              "      <td>1</td>\n",
              "      <td>NaN</td>\n",
              "      <td>0</td>\n",
              "    </tr>\n",
              "    <tr>\n",
              "      <th>1</th>\n",
              "      <td>59.166.0.0</td>\n",
              "      <td>33661</td>\n",
              "      <td>149.171.126.9</td>\n",
              "      <td>1024</td>\n",
              "      <td>udp</td>\n",
              "      <td>CON</td>\n",
              "      <td>0.036133</td>\n",
              "      <td>528</td>\n",
              "      <td>304</td>\n",
              "      <td>31</td>\n",
              "      <td>29</td>\n",
              "      <td>0</td>\n",
              "      <td>0</td>\n",
              "      <td>-</td>\n",
              "      <td>87676.08594</td>\n",
              "      <td>50480.17188</td>\n",
              "      <td>4</td>\n",
              "      <td>4</td>\n",
              "      <td>0</td>\n",
              "      <td>0</td>\n",
              "      <td>0</td>\n",
              "      <td>0</td>\n",
              "      <td>132</td>\n",
              "      <td>76</td>\n",
              "      <td>0</td>\n",
              "      <td>0</td>\n",
              "      <td>9.89101</td>\n",
              "      <td>10.682733</td>\n",
              "      <td>1421927414</td>\n",
              "      <td>1421927414</td>\n",
              "      <td>7.005</td>\n",
              "      <td>7.564333</td>\n",
              "      <td>0.0</td>\n",
              "      <td>0.0</td>\n",
              "      <td>0.0</td>\n",
              "      <td>0</td>\n",
              "      <td>0</td>\n",
              "      <td>0.0</td>\n",
              "      <td>0.0</td>\n",
              "      <td>0</td>\n",
              "      <td>2</td>\n",
              "      <td>4</td>\n",
              "      <td>2</td>\n",
              "      <td>3</td>\n",
              "      <td>1</td>\n",
              "      <td>1</td>\n",
              "      <td>2</td>\n",
              "      <td>NaN</td>\n",
              "      <td>0</td>\n",
              "    </tr>\n",
              "    <tr>\n",
              "      <th>2</th>\n",
              "      <td>59.166.0.6</td>\n",
              "      <td>1464</td>\n",
              "      <td>149.171.126.7</td>\n",
              "      <td>53</td>\n",
              "      <td>udp</td>\n",
              "      <td>CON</td>\n",
              "      <td>0.001119</td>\n",
              "      <td>146</td>\n",
              "      <td>178</td>\n",
              "      <td>31</td>\n",
              "      <td>29</td>\n",
              "      <td>0</td>\n",
              "      <td>0</td>\n",
              "      <td>dns</td>\n",
              "      <td>521894.53130</td>\n",
              "      <td>636282.37500</td>\n",
              "      <td>2</td>\n",
              "      <td>2</td>\n",
              "      <td>0</td>\n",
              "      <td>0</td>\n",
              "      <td>0</td>\n",
              "      <td>0</td>\n",
              "      <td>73</td>\n",
              "      <td>89</td>\n",
              "      <td>0</td>\n",
              "      <td>0</td>\n",
              "      <td>0.00000</td>\n",
              "      <td>0.000000</td>\n",
              "      <td>1421927414</td>\n",
              "      <td>1421927414</td>\n",
              "      <td>0.017</td>\n",
              "      <td>0.013000</td>\n",
              "      <td>0.0</td>\n",
              "      <td>0.0</td>\n",
              "      <td>0.0</td>\n",
              "      <td>0</td>\n",
              "      <td>0</td>\n",
              "      <td>0.0</td>\n",
              "      <td>0.0</td>\n",
              "      <td>0</td>\n",
              "      <td>12</td>\n",
              "      <td>8</td>\n",
              "      <td>1</td>\n",
              "      <td>2</td>\n",
              "      <td>2</td>\n",
              "      <td>1</td>\n",
              "      <td>1</td>\n",
              "      <td>NaN</td>\n",
              "      <td>0</td>\n",
              "    </tr>\n",
              "    <tr>\n",
              "      <th>3</th>\n",
              "      <td>59.166.0.5</td>\n",
              "      <td>3593</td>\n",
              "      <td>149.171.126.5</td>\n",
              "      <td>53</td>\n",
              "      <td>udp</td>\n",
              "      <td>CON</td>\n",
              "      <td>0.001209</td>\n",
              "      <td>132</td>\n",
              "      <td>164</td>\n",
              "      <td>31</td>\n",
              "      <td>29</td>\n",
              "      <td>0</td>\n",
              "      <td>0</td>\n",
              "      <td>dns</td>\n",
              "      <td>436724.56250</td>\n",
              "      <td>542597.18750</td>\n",
              "      <td>2</td>\n",
              "      <td>2</td>\n",
              "      <td>0</td>\n",
              "      <td>0</td>\n",
              "      <td>0</td>\n",
              "      <td>0</td>\n",
              "      <td>66</td>\n",
              "      <td>82</td>\n",
              "      <td>0</td>\n",
              "      <td>0</td>\n",
              "      <td>0.00000</td>\n",
              "      <td>0.000000</td>\n",
              "      <td>1421927414</td>\n",
              "      <td>1421927414</td>\n",
              "      <td>0.043</td>\n",
              "      <td>0.014000</td>\n",
              "      <td>0.0</td>\n",
              "      <td>0.0</td>\n",
              "      <td>0.0</td>\n",
              "      <td>0</td>\n",
              "      <td>0</td>\n",
              "      <td>0.0</td>\n",
              "      <td>0.0</td>\n",
              "      <td>0</td>\n",
              "      <td>6</td>\n",
              "      <td>9</td>\n",
              "      <td>1</td>\n",
              "      <td>1</td>\n",
              "      <td>1</td>\n",
              "      <td>1</td>\n",
              "      <td>1</td>\n",
              "      <td>NaN</td>\n",
              "      <td>0</td>\n",
              "    </tr>\n",
              "    <tr>\n",
              "      <th>4</th>\n",
              "      <td>59.166.0.3</td>\n",
              "      <td>49664</td>\n",
              "      <td>149.171.126.0</td>\n",
              "      <td>53</td>\n",
              "      <td>udp</td>\n",
              "      <td>CON</td>\n",
              "      <td>0.001169</td>\n",
              "      <td>146</td>\n",
              "      <td>178</td>\n",
              "      <td>31</td>\n",
              "      <td>29</td>\n",
              "      <td>0</td>\n",
              "      <td>0</td>\n",
              "      <td>dns</td>\n",
              "      <td>499572.25000</td>\n",
              "      <td>609067.56250</td>\n",
              "      <td>2</td>\n",
              "      <td>2</td>\n",
              "      <td>0</td>\n",
              "      <td>0</td>\n",
              "      <td>0</td>\n",
              "      <td>0</td>\n",
              "      <td>73</td>\n",
              "      <td>89</td>\n",
              "      <td>0</td>\n",
              "      <td>0</td>\n",
              "      <td>0.00000</td>\n",
              "      <td>0.000000</td>\n",
              "      <td>1421927414</td>\n",
              "      <td>1421927414</td>\n",
              "      <td>0.005</td>\n",
              "      <td>0.003000</td>\n",
              "      <td>0.0</td>\n",
              "      <td>0.0</td>\n",
              "      <td>0.0</td>\n",
              "      <td>0</td>\n",
              "      <td>0</td>\n",
              "      <td>0.0</td>\n",
              "      <td>0.0</td>\n",
              "      <td>0</td>\n",
              "      <td>7</td>\n",
              "      <td>9</td>\n",
              "      <td>1</td>\n",
              "      <td>1</td>\n",
              "      <td>1</td>\n",
              "      <td>1</td>\n",
              "      <td>1</td>\n",
              "      <td>NaN</td>\n",
              "      <td>0</td>\n",
              "    </tr>\n",
              "  </tbody>\n",
              "</table>\n",
              "</div>"
            ],
            "text/plain": [
              "Name       srcip  sport          dstip  ... ct_dst_src_ltm attack_cat label\n",
              "0     59.166.0.0   1390  149.171.126.6  ...              1        NaN     0\n",
              "1     59.166.0.0  33661  149.171.126.9  ...              2        NaN     0\n",
              "2     59.166.0.6   1464  149.171.126.7  ...              1        NaN     0\n",
              "3     59.166.0.5   3593  149.171.126.5  ...              1        NaN     0\n",
              "4     59.166.0.3  49664  149.171.126.0  ...              1        NaN     0\n",
              "\n",
              "[5 rows x 49 columns]"
            ]
          },
          "metadata": {
            "tags": []
          },
          "execution_count": 3
        }
      ]
    },
    {
      "cell_type": "code",
      "metadata": {
        "colab": {
          "base_uri": "https://localhost:8080/"
        },
        "id": "3bUkiXn5xjhm",
        "outputId": "804842e7-8186-49d8-9183-a3156852e99a"
      },
      "source": [
        "train, test = train_test_split(data, test_size=0.3, random_state=0)\r\n",
        "train.shape"
      ],
      "execution_count": 4,
      "outputs": [
        {
          "output_type": "execute_result",
          "data": {
            "text/plain": [
              "(1778032, 49)"
            ]
          },
          "metadata": {
            "tags": []
          },
          "execution_count": 4
        }
      ]
    },
    {
      "cell_type": "code",
      "metadata": {
        "colab": {
          "base_uri": "https://localhost:8080/"
        },
        "id": "lBsY4_y6JIQ8",
        "outputId": "7de6f7f6-5e0f-4ab6-e031-e8343042b02c"
      },
      "source": [
        "test.shape"
      ],
      "execution_count": 5,
      "outputs": [
        {
          "output_type": "execute_result",
          "data": {
            "text/plain": [
              "(762015, 49)"
            ]
          },
          "metadata": {
            "tags": []
          },
          "execution_count": 5
        }
      ]
    },
    {
      "cell_type": "code",
      "metadata": {
        "colab": {
          "base_uri": "https://localhost:8080/",
          "height": 214
        },
        "id": "Lhmd-w7TK2kP",
        "outputId": "08e49a29-ee5a-4260-f09b-118943a52fe7"
      },
      "source": [
        "train.head()"
      ],
      "execution_count": 6,
      "outputs": [
        {
          "output_type": "execute_result",
          "data": {
            "text/html": [
              "<div>\n",
              "<style scoped>\n",
              "    .dataframe tbody tr th:only-of-type {\n",
              "        vertical-align: middle;\n",
              "    }\n",
              "\n",
              "    .dataframe tbody tr th {\n",
              "        vertical-align: top;\n",
              "    }\n",
              "\n",
              "    .dataframe thead th {\n",
              "        text-align: right;\n",
              "    }\n",
              "</style>\n",
              "<table border=\"1\" class=\"dataframe\">\n",
              "  <thead>\n",
              "    <tr style=\"text-align: right;\">\n",
              "      <th>Name</th>\n",
              "      <th>srcip</th>\n",
              "      <th>sport</th>\n",
              "      <th>dstip</th>\n",
              "      <th>dsport</th>\n",
              "      <th>proto</th>\n",
              "      <th>state</th>\n",
              "      <th>dur</th>\n",
              "      <th>sbytes</th>\n",
              "      <th>dbytes</th>\n",
              "      <th>sttl</th>\n",
              "      <th>dttl</th>\n",
              "      <th>sloss</th>\n",
              "      <th>dloss</th>\n",
              "      <th>service</th>\n",
              "      <th>sload</th>\n",
              "      <th>dload</th>\n",
              "      <th>spkts</th>\n",
              "      <th>dpkts</th>\n",
              "      <th>swin</th>\n",
              "      <th>dwin</th>\n",
              "      <th>stcpb</th>\n",
              "      <th>dtcpb</th>\n",
              "      <th>smeansz</th>\n",
              "      <th>dmeansz</th>\n",
              "      <th>trans_depth</th>\n",
              "      <th>res_bdy_len</th>\n",
              "      <th>sjit</th>\n",
              "      <th>djit</th>\n",
              "      <th>stime</th>\n",
              "      <th>ltime</th>\n",
              "      <th>sintpkt</th>\n",
              "      <th>dintpkt</th>\n",
              "      <th>tcprtt</th>\n",
              "      <th>synack</th>\n",
              "      <th>ackdat</th>\n",
              "      <th>is_sm_ips_ports</th>\n",
              "      <th>ct_state_ttl</th>\n",
              "      <th>ct_flw_http_mthd</th>\n",
              "      <th>is_ftp_login</th>\n",
              "      <th>ct_ftp_cmd</th>\n",
              "      <th>ct_srv_src</th>\n",
              "      <th>ct_srv_dst</th>\n",
              "      <th>ct_dst_ltm</th>\n",
              "      <th>ct_src_ltm</th>\n",
              "      <th>ct_src_dport_ltm</th>\n",
              "      <th>ct_dst_sport_ltm</th>\n",
              "      <th>ct_dst_src_ltm</th>\n",
              "      <th>attack_cat</th>\n",
              "      <th>label</th>\n",
              "    </tr>\n",
              "  </thead>\n",
              "  <tbody>\n",
              "    <tr>\n",
              "      <th>262209</th>\n",
              "      <td>59.166.0.3</td>\n",
              "      <td>28756</td>\n",
              "      <td>149.171.126.0</td>\n",
              "      <td>26811</td>\n",
              "      <td>tcp</td>\n",
              "      <td>FIN</td>\n",
              "      <td>0.029975</td>\n",
              "      <td>4014</td>\n",
              "      <td>57836</td>\n",
              "      <td>31</td>\n",
              "      <td>29</td>\n",
              "      <td>7</td>\n",
              "      <td>28</td>\n",
              "      <td>-</td>\n",
              "      <td>1.055546e+06</td>\n",
              "      <td>1.521535e+07</td>\n",
              "      <td>68</td>\n",
              "      <td>70</td>\n",
              "      <td>255</td>\n",
              "      <td>255</td>\n",
              "      <td>208235019</td>\n",
              "      <td>2373132436</td>\n",
              "      <td>59</td>\n",
              "      <td>826</td>\n",
              "      <td>0</td>\n",
              "      <td>0</td>\n",
              "      <td>0.000000</td>\n",
              "      <td>23.540364</td>\n",
              "      <td>1421937769</td>\n",
              "      <td>1421937769</td>\n",
              "      <td>0.442597</td>\n",
              "      <td>0.426304</td>\n",
              "      <td>0.000695</td>\n",
              "      <td>0.000556</td>\n",
              "      <td>0.000139</td>\n",
              "      <td>0</td>\n",
              "      <td>0</td>\n",
              "      <td>0.0</td>\n",
              "      <td>0.0</td>\n",
              "      <td>0</td>\n",
              "      <td>8</td>\n",
              "      <td>4</td>\n",
              "      <td>1</td>\n",
              "      <td>2</td>\n",
              "      <td>1</td>\n",
              "      <td>1</td>\n",
              "      <td>1</td>\n",
              "      <td>NaN</td>\n",
              "      <td>0</td>\n",
              "    </tr>\n",
              "    <tr>\n",
              "      <th>225020</th>\n",
              "      <td>59.166.0.3</td>\n",
              "      <td>2037</td>\n",
              "      <td>149.171.126.0</td>\n",
              "      <td>10596</td>\n",
              "      <td>tcp</td>\n",
              "      <td>FIN</td>\n",
              "      <td>0.010853</td>\n",
              "      <td>2230</td>\n",
              "      <td>13288</td>\n",
              "      <td>31</td>\n",
              "      <td>29</td>\n",
              "      <td>7</td>\n",
              "      <td>11</td>\n",
              "      <td>-</td>\n",
              "      <td>1.595872e+06</td>\n",
              "      <td>9.522897e+06</td>\n",
              "      <td>34</td>\n",
              "      <td>36</td>\n",
              "      <td>255</td>\n",
              "      <td>255</td>\n",
              "      <td>487867095</td>\n",
              "      <td>2637725120</td>\n",
              "      <td>66</td>\n",
              "      <td>369</td>\n",
              "      <td>0</td>\n",
              "      <td>0</td>\n",
              "      <td>22.672907</td>\n",
              "      <td>21.542192</td>\n",
              "      <td>1421936048</td>\n",
              "      <td>1421936048</td>\n",
              "      <td>0.319697</td>\n",
              "      <td>0.294771</td>\n",
              "      <td>0.000653</td>\n",
              "      <td>0.000529</td>\n",
              "      <td>0.000124</td>\n",
              "      <td>0</td>\n",
              "      <td>0</td>\n",
              "      <td>0.0</td>\n",
              "      <td>0.0</td>\n",
              "      <td>0</td>\n",
              "      <td>11</td>\n",
              "      <td>3</td>\n",
              "      <td>4</td>\n",
              "      <td>5</td>\n",
              "      <td>1</td>\n",
              "      <td>1</td>\n",
              "      <td>2</td>\n",
              "      <td>NaN</td>\n",
              "      <td>0</td>\n",
              "    </tr>\n",
              "    <tr>\n",
              "      <th>1802864</th>\n",
              "      <td>59.166.0.9</td>\n",
              "      <td>10851</td>\n",
              "      <td>149.171.126.5</td>\n",
              "      <td>80</td>\n",
              "      <td>tcp</td>\n",
              "      <td>FIN</td>\n",
              "      <td>1.094710</td>\n",
              "      <td>1684</td>\n",
              "      <td>10168</td>\n",
              "      <td>31</td>\n",
              "      <td>29</td>\n",
              "      <td>3</td>\n",
              "      <td>5</td>\n",
              "      <td>http</td>\n",
              "      <td>1.142951e+04</td>\n",
              "      <td>7.018480e+04</td>\n",
              "      <td>14</td>\n",
              "      <td>18</td>\n",
              "      <td>255</td>\n",
              "      <td>255</td>\n",
              "      <td>536716439</td>\n",
              "      <td>2687376793</td>\n",
              "      <td>120</td>\n",
              "      <td>565</td>\n",
              "      <td>0</td>\n",
              "      <td>0</td>\n",
              "      <td>8797.576648</td>\n",
              "      <td>7703.519992</td>\n",
              "      <td>1424241707</td>\n",
              "      <td>1424241708</td>\n",
              "      <td>84.182154</td>\n",
              "      <td>64.361529</td>\n",
              "      <td>0.000721</td>\n",
              "      <td>0.000560</td>\n",
              "      <td>0.000161</td>\n",
              "      <td>0</td>\n",
              "      <td>0</td>\n",
              "      <td>NaN</td>\n",
              "      <td>NaN</td>\n",
              "      <td></td>\n",
              "      <td>2</td>\n",
              "      <td>1</td>\n",
              "      <td>4</td>\n",
              "      <td>3</td>\n",
              "      <td>1</td>\n",
              "      <td>1</td>\n",
              "      <td>4</td>\n",
              "      <td>NaN</td>\n",
              "      <td>0</td>\n",
              "    </tr>\n",
              "    <tr>\n",
              "      <th>919097</th>\n",
              "      <td>59.166.0.4</td>\n",
              "      <td>51060</td>\n",
              "      <td>149.171.126.6</td>\n",
              "      <td>25483</td>\n",
              "      <td>tcp</td>\n",
              "      <td>FIN</td>\n",
              "      <td>0.021920</td>\n",
              "      <td>2558</td>\n",
              "      <td>23268</td>\n",
              "      <td>31</td>\n",
              "      <td>29</td>\n",
              "      <td>7</td>\n",
              "      <td>14</td>\n",
              "      <td>-</td>\n",
              "      <td>9.105840e+05</td>\n",
              "      <td>8.289782e+06</td>\n",
              "      <td>40</td>\n",
              "      <td>42</td>\n",
              "      <td>255</td>\n",
              "      <td>255</td>\n",
              "      <td>3496437099</td>\n",
              "      <td>1347167990</td>\n",
              "      <td>64</td>\n",
              "      <td>554</td>\n",
              "      <td>0</td>\n",
              "      <td>0</td>\n",
              "      <td>35.582433</td>\n",
              "      <td>34.630980</td>\n",
              "      <td>1421965378</td>\n",
              "      <td>1421965378</td>\n",
              "      <td>0.553359</td>\n",
              "      <td>0.532800</td>\n",
              "      <td>0.000743</td>\n",
              "      <td>0.000598</td>\n",
              "      <td>0.000145</td>\n",
              "      <td>0</td>\n",
              "      <td>0</td>\n",
              "      <td>0.0</td>\n",
              "      <td>0.0</td>\n",
              "      <td>0</td>\n",
              "      <td>9</td>\n",
              "      <td>7</td>\n",
              "      <td>3</td>\n",
              "      <td>2</td>\n",
              "      <td>1</td>\n",
              "      <td>1</td>\n",
              "      <td>1</td>\n",
              "      <td>NaN</td>\n",
              "      <td>0</td>\n",
              "    </tr>\n",
              "    <tr>\n",
              "      <th>1401105</th>\n",
              "      <td>59.166.0.6</td>\n",
              "      <td>39371</td>\n",
              "      <td>149.171.126.1</td>\n",
              "      <td>80</td>\n",
              "      <td>tcp</td>\n",
              "      <td>FIN</td>\n",
              "      <td>1.034522</td>\n",
              "      <td>1580</td>\n",
              "      <td>10168</td>\n",
              "      <td>31</td>\n",
              "      <td>29</td>\n",
              "      <td>3</td>\n",
              "      <td>5</td>\n",
              "      <td>http</td>\n",
              "      <td>1.120517e+04</td>\n",
              "      <td>7.426811e+04</td>\n",
              "      <td>12</td>\n",
              "      <td>18</td>\n",
              "      <td>255</td>\n",
              "      <td>255</td>\n",
              "      <td>683548608</td>\n",
              "      <td>2834137940</td>\n",
              "      <td>132</td>\n",
              "      <td>565</td>\n",
              "      <td>1</td>\n",
              "      <td>3924</td>\n",
              "      <td>9598.045575</td>\n",
              "      <td>7776.927343</td>\n",
              "      <td>1424231163</td>\n",
              "      <td>1424231164</td>\n",
              "      <td>94.015000</td>\n",
              "      <td>60.825767</td>\n",
              "      <td>0.000597</td>\n",
              "      <td>0.000479</td>\n",
              "      <td>0.000118</td>\n",
              "      <td>0</td>\n",
              "      <td>0</td>\n",
              "      <td>1.0</td>\n",
              "      <td>NaN</td>\n",
              "      <td></td>\n",
              "      <td>2</td>\n",
              "      <td>2</td>\n",
              "      <td>1</td>\n",
              "      <td>4</td>\n",
              "      <td>1</td>\n",
              "      <td>1</td>\n",
              "      <td>1</td>\n",
              "      <td>NaN</td>\n",
              "      <td>0</td>\n",
              "    </tr>\n",
              "  </tbody>\n",
              "</table>\n",
              "</div>"
            ],
            "text/plain": [
              "Name          srcip  sport          dstip  ... ct_dst_src_ltm attack_cat label\n",
              "262209   59.166.0.3  28756  149.171.126.0  ...              1        NaN     0\n",
              "225020   59.166.0.3   2037  149.171.126.0  ...              2        NaN     0\n",
              "1802864  59.166.0.9  10851  149.171.126.5  ...              4        NaN     0\n",
              "919097   59.166.0.4  51060  149.171.126.6  ...              1        NaN     0\n",
              "1401105  59.166.0.6  39371  149.171.126.1  ...              1        NaN     0\n",
              "\n",
              "[5 rows x 49 columns]"
            ]
          },
          "metadata": {
            "tags": []
          },
          "execution_count": 6
        }
      ]
    },
    {
      "cell_type": "markdown",
      "metadata": {
        "id": "X6QUhT_EKEPY"
      },
      "source": [
        "Cleaning Dataset"
      ]
    },
    {
      "cell_type": "markdown",
      "metadata": {
        "id": "aq5Y1n4gKHkW"
      },
      "source": [
        "*Finding null values and filling them*"
      ]
    },
    {
      "cell_type": "code",
      "metadata": {
        "colab": {
          "base_uri": "https://localhost:8080/"
        },
        "id": "g8cSAnq1ylxm",
        "outputId": "48d5d468-69a5-42c1-97f9-a0b7b24f0e7e"
      },
      "source": [
        "train.isnull().sum()"
      ],
      "execution_count": 7,
      "outputs": [
        {
          "output_type": "execute_result",
          "data": {
            "text/plain": [
              "Name\n",
              "srcip                     0\n",
              "sport                     0\n",
              "dstip                     0\n",
              "dsport                    0\n",
              "proto                     0\n",
              "state                     0\n",
              "dur                       0\n",
              "sbytes                    0\n",
              "dbytes                    0\n",
              "sttl                      0\n",
              "dttl                      0\n",
              "sloss                     0\n",
              "dloss                     0\n",
              "service                   0\n",
              "sload                     0\n",
              "dload                     0\n",
              "spkts                     0\n",
              "dpkts                     0\n",
              "swin                      0\n",
              "dwin                      0\n",
              "stcpb                     0\n",
              "dtcpb                     0\n",
              "smeansz                   0\n",
              "dmeansz                   0\n",
              "trans_depth               0\n",
              "res_bdy_len               0\n",
              "sjit                      0\n",
              "djit                      0\n",
              "stime                     0\n",
              "ltime                     0\n",
              "sintpkt                   0\n",
              "dintpkt                   0\n",
              "tcprtt                    0\n",
              "synack                    0\n",
              "ackdat                    0\n",
              "is_sm_ips_ports           0\n",
              "ct_state_ttl              0\n",
              "ct_flw_http_mthd     943897\n",
              "is_ftp_login        1001138\n",
              "ct_ftp_cmd                0\n",
              "ct_srv_src                0\n",
              "ct_srv_dst                0\n",
              "ct_dst_ltm                0\n",
              "ct_src_ltm                0\n",
              "ct_src_dport_ltm          0\n",
              "ct_dst_sport_ltm          0\n",
              "ct_dst_src_ltm            0\n",
              "attack_cat          1553306\n",
              "label                     0\n",
              "dtype: int64"
            ]
          },
          "metadata": {
            "tags": []
          },
          "execution_count": 7
        }
      ]
    },
    {
      "cell_type": "code",
      "metadata": {
        "colab": {
          "base_uri": "https://localhost:8080/"
        },
        "id": "P_tFcI0EKTpp",
        "outputId": "76d26e59-c280-48b4-d2ac-5e8156f0664f"
      },
      "source": [
        "train['attack_cat'].value_counts()"
      ],
      "execution_count": 8,
      "outputs": [
        {
          "output_type": "execute_result",
          "data": {
            "text/plain": [
              "Generic             150587\n",
              "Exploits             31185\n",
              " Fuzzers             13476\n",
              "DoS                  11358\n",
              " Reconnaissance       8608\n",
              " Fuzzers              3583\n",
              "Analysis              1865\n",
              "Reconnaissance        1254\n",
              "Backdoor              1239\n",
              " Shellcode             920\n",
              "Backdoors              380\n",
              "Shellcode              148\n",
              "Worms                  123\n",
              "Name: attack_cat, dtype: int64"
            ]
          },
          "metadata": {
            "tags": []
          },
          "execution_count": 8
        }
      ]
    },
    {
      "cell_type": "code",
      "metadata": {
        "colab": {
          "base_uri": "https://localhost:8080/"
        },
        "id": "2U-lnFYYStq4",
        "outputId": "2dbc2d5a-df3c-489e-a6df-5632d9f84894"
      },
      "source": [
        "train['ct_flw_http_mthd'] = train.ct_flw_http_mthd.fillna(value=0)\r\n",
        "train['is_ftp_login'] = (train.is_ftp_login.fillna(value=0)).astype(int)\r\n",
        "train['attack_cat'] = train.attack_cat.fillna(value='normal').apply(lambda x: x.strip().lower())"
      ],
      "execution_count": 9,
      "outputs": [
        {
          "output_type": "stream",
          "text": [
            "/usr/local/lib/python3.7/dist-packages/ipykernel_launcher.py:1: SettingWithCopyWarning: \n",
            "A value is trying to be set on a copy of a slice from a DataFrame.\n",
            "Try using .loc[row_indexer,col_indexer] = value instead\n",
            "\n",
            "See the caveats in the documentation: https://pandas.pydata.org/pandas-docs/stable/user_guide/indexing.html#returning-a-view-versus-a-copy\n",
            "  \"\"\"Entry point for launching an IPython kernel.\n",
            "/usr/local/lib/python3.7/dist-packages/ipykernel_launcher.py:2: SettingWithCopyWarning: \n",
            "A value is trying to be set on a copy of a slice from a DataFrame.\n",
            "Try using .loc[row_indexer,col_indexer] = value instead\n",
            "\n",
            "See the caveats in the documentation: https://pandas.pydata.org/pandas-docs/stable/user_guide/indexing.html#returning-a-view-versus-a-copy\n",
            "  \n",
            "/usr/local/lib/python3.7/dist-packages/ipykernel_launcher.py:3: SettingWithCopyWarning: \n",
            "A value is trying to be set on a copy of a slice from a DataFrame.\n",
            "Try using .loc[row_indexer,col_indexer] = value instead\n",
            "\n",
            "See the caveats in the documentation: https://pandas.pydata.org/pandas-docs/stable/user_guide/indexing.html#returning-a-view-versus-a-copy\n",
            "  This is separate from the ipykernel package so we can avoid doing imports until\n"
          ],
          "name": "stderr"
        }
      ]
    },
    {
      "cell_type": "code",
      "metadata": {
        "colab": {
          "base_uri": "https://localhost:8080/"
        },
        "id": "2aZ6zThpTWkA",
        "outputId": "e736b769-91f3-4f3c-dac5-cd107b31e8a7"
      },
      "source": [
        "train.isnull().sum().sum()"
      ],
      "execution_count": 10,
      "outputs": [
        {
          "output_type": "execute_result",
          "data": {
            "text/plain": [
              "0"
            ]
          },
          "metadata": {
            "tags": []
          },
          "execution_count": 10
        }
      ]
    },
    {
      "cell_type": "markdown",
      "metadata": {
        "id": "qj1OIYWDbM7-"
      },
      "source": [
        "Datatype Information"
      ]
    },
    {
      "cell_type": "code",
      "metadata": {
        "colab": {
          "base_uri": "https://localhost:8080/"
        },
        "id": "lS5P7xtybP_U",
        "outputId": "4b32f5ed-23a0-46a1-919e-b7892d4135c4"
      },
      "source": [
        "train.dtypes.value_counts()"
      ],
      "execution_count": 11,
      "outputs": [
        {
          "output_type": "execute_result",
          "data": {
            "text/plain": [
              "int64      29\n",
              "float64    11\n",
              "object      9\n",
              "dtype: int64"
            ]
          },
          "metadata": {
            "tags": []
          },
          "execution_count": 11
        }
      ]
    },
    {
      "cell_type": "code",
      "metadata": {
        "colab": {
          "base_uri": "https://localhost:8080/"
        },
        "id": "0mFuTTjicQ1I",
        "outputId": "3d6db648-b2ca-41ad-d242-8b9bde3f9179"
      },
      "source": [
        "train['ct_ftp_cmd'].unique()\r\n",
        "train['ct_ftp_cmd'] = train['ct_ftp_cmd'].replace(to_replace=' ', value=0).astype(int)"
      ],
      "execution_count": 12,
      "outputs": [
        {
          "output_type": "stream",
          "text": [
            "/usr/local/lib/python3.7/dist-packages/ipykernel_launcher.py:2: SettingWithCopyWarning: \n",
            "A value is trying to be set on a copy of a slice from a DataFrame.\n",
            "Try using .loc[row_indexer,col_indexer] = value instead\n",
            "\n",
            "See the caveats in the documentation: https://pandas.pydata.org/pandas-docs/stable/user_guide/indexing.html#returning-a-view-versus-a-copy\n",
            "  \n"
          ],
          "name": "stderr"
        }
      ]
    },
    {
      "cell_type": "markdown",
      "metadata": {
        "id": "jE3IV7eIYsve"
      },
      "source": [
        "Finding Correlation and removing highly correlated data"
      ]
    },
    {
      "cell_type": "code",
      "metadata": {
        "id": "DJQbJEJ7VT6D"
      },
      "source": [
        "normal = train[train['label']==0]\r\n",
        "anomaly = train[train['label']==1]"
      ],
      "execution_count": 13,
      "outputs": []
    },
    {
      "cell_type": "code",
      "metadata": {
        "id": "4y6creMdgaWz"
      },
      "source": [
        "def corr(col1, col2=\"label\", df=train):\r\n",
        "    return df[[col1, col2]].corr().iloc[0,1]"
      ],
      "execution_count": 14,
      "outputs": []
    },
    {
      "cell_type": "code",
      "metadata": {
        "colab": {
          "base_uri": "https://localhost:8080/",
          "height": 736
        },
        "id": "2B7WdfyNgd-z",
        "outputId": "0fedf771-c82c-4858-8e83-9ae29380d15a"
      },
      "source": [
        "corr_mat = train.corr(method=\"pearson\")\r\n",
        "plt.figure(figsize=(12,12)) \r\n",
        "sns.heatmap(corr_mat, square=True)\r\n",
        "plt.show()"
      ],
      "execution_count": 15,
      "outputs": [
        {
          "output_type": "display_data",
          "data": {
            "image/png": "[encoded data removed]",
            "text/plain": [
              "<Figure size 864x864 with 2 Axes>"
            ]
          },
          "metadata": {
            "tags": [],
            "needs_background": "light"
          }
        }
      ]
    },
    {
      "cell_type": "code",
      "metadata": {
        "colab": {
          "base_uri": "https://localhost:8080/"
        },
        "id": "cYMkO0OqhC_d",
        "outputId": "3dfec8c8-63d5-498d-d34d-4e9b0beaad07"
      },
      "source": [
        "limit = 0.9\r\n",
        "columns = corr_mat.columns\r\n",
        "for i in range(corr_mat.shape[0]):\r\n",
        "    for j in range(i+1, corr_mat.shape[0]):\r\n",
        "        if corr_mat.iloc[i, j] >= 0.9:\r\n",
        "            print(f\"{columns[i]:20s} {columns[j]:20s} {corr_mat.iloc[i, j]}\")"
      ],
      "execution_count": 16,
      "outputs": [
        {
          "output_type": "stream",
          "text": [
            "sbytes               sloss                0.9581285657722225\n",
            "dbytes               dloss                0.9913325160849764\n",
            "dbytes               dpkts                0.9706236361113262\n",
            "sttl                 ct_state_ttl         0.905930209639797\n",
            "sttl                 label                0.9044318112514584\n",
            "dloss                dpkts                0.9919988285848562\n",
            "swin                 dwin                 0.9971600128201086\n",
            "stime                ltime                0.9999999997899374\n",
            "tcprtt               synack               0.9297911269387318\n",
            "tcprtt               ackdat               0.9185516458838555\n",
            "ct_srv_src           ct_srv_dst           0.9567993915222623\n",
            "ct_srv_src           ct_dst_src_ltm       0.9422207389782216\n",
            "ct_srv_dst           ct_dst_src_ltm       0.9510651409828361\n",
            "ct_dst_ltm           ct_src_ltm           0.9385972062207393\n",
            "ct_dst_ltm           ct_src_dport_ltm     0.9602537526221788\n",
            "ct_src_ltm           ct_src_dport_ltm     0.9452983773355971\n",
            "ct_src_dport_ltm     ct_dst_sport_ltm     0.9214678374845297\n",
            "ct_src_dport_ltm     ct_dst_src_ltm       0.9109912693934967\n"
          ],
          "name": "stdout"
        }
      ]
    },
    {
      "cell_type": "code",
      "metadata": {
        "colab": {
          "base_uri": "https://localhost:8080/"
        },
        "id": "xzV3Hv-0h4py",
        "outputId": "1c02a339-8809-473c-cb29-762728f52f24"
      },
      "source": [
        "corr_matrix = train.corr().abs()\r\n",
        "upper = corr_matrix.where(np.triu(np.ones(corr_matrix.shape), k=1).astype(np.bool))\r\n",
        "to_drop = [column for column in upper.columns if any(upper[column] > 0.95)]\r\n",
        "print(to_drop)"
      ],
      "execution_count": 17,
      "outputs": [
        {
          "output_type": "stream",
          "text": [
            "['sloss', 'dloss', 'dpkts', 'dwin', 'ltime', 'ct_srv_dst', 'ct_src_dport_ltm', 'ct_dst_src_ltm']\n"
          ],
          "name": "stdout"
        }
      ]
    },
    {
      "cell_type": "code",
      "metadata": {
        "colab": {
          "base_uri": "https://localhost:8080/"
        },
        "id": "48PK2ShQiGFM",
        "outputId": "6da3e195-c2c0-43f1-c7fe-bbde5412dbd2"
      },
      "source": [
        "train.drop(columns=to_drop, inplace=True)"
      ],
      "execution_count": 18,
      "outputs": [
        {
          "output_type": "stream",
          "text": [
            "/usr/local/lib/python3.7/dist-packages/pandas/core/frame.py:4174: SettingWithCopyWarning: \n",
            "A value is trying to be set on a copy of a slice from a DataFrame\n",
            "\n",
            "See the caveats in the documentation: https://pandas.pydata.org/pandas-docs/stable/user_guide/indexing.html#returning-a-view-versus-a-copy\n",
            "  errors=errors,\n"
          ],
          "name": "stderr"
        }
      ]
    },
    {
      "cell_type": "markdown",
      "metadata": {
        "id": "CUMF8l5QdK0-"
      },
      "source": [
        "Removing useless columns"
      ]
    },
    {
      "cell_type": "code",
      "metadata": {
        "colab": {
          "base_uri": "https://localhost:8080/"
        },
        "id": "W6tDgMMddgQx",
        "outputId": "138c20a8-412c-4ad3-dabc-ad019e7ed30a"
      },
      "source": [
        "train['network_bytes'] = train['sbytes'] + train['dbytes']"
      ],
      "execution_count": 19,
      "outputs": [
        {
          "output_type": "stream",
          "text": [
            "/usr/local/lib/python3.7/dist-packages/ipykernel_launcher.py:1: SettingWithCopyWarning: \n",
            "A value is trying to be set on a copy of a slice from a DataFrame.\n",
            "Try using .loc[row_indexer,col_indexer] = value instead\n",
            "\n",
            "See the caveats in the documentation: https://pandas.pydata.org/pandas-docs/stable/user_guide/indexing.html#returning-a-view-versus-a-copy\n",
            "  \"\"\"Entry point for launching an IPython kernel.\n"
          ],
          "name": "stderr"
        }
      ]
    },
    {
      "cell_type": "code",
      "metadata": {
        "colab": {
          "base_uri": "https://localhost:8080/"
        },
        "id": "lqwmj8vKdG4Y",
        "outputId": "76ecc1f9-71f8-4b6c-c4e3-a54a3c5dc090"
      },
      "source": [
        "train.drop(['srcip', 'sport', 'dstip', 'dsport', 'attack_cat'], axis=1, inplace=True)"
      ],
      "execution_count": 20,
      "outputs": [
        {
          "output_type": "stream",
          "text": [
            "/usr/local/lib/python3.7/dist-packages/pandas/core/frame.py:4174: SettingWithCopyWarning: \n",
            "A value is trying to be set on a copy of a slice from a DataFrame\n",
            "\n",
            "See the caveats in the documentation: https://pandas.pydata.org/pandas-docs/stable/user_guide/indexing.html#returning-a-view-versus-a-copy\n",
            "  errors=errors,\n"
          ],
          "name": "stderr"
        }
      ]
    },
    {
      "cell_type": "code",
      "metadata": {
        "colab": {
          "base_uri": "https://localhost:8080/",
          "height": 214
        },
        "id": "8vXmXmhYrrG6",
        "outputId": "f90c235d-4aaa-444c-a4d4-d25b2b248da3"
      },
      "source": [
        "train.head()"
      ],
      "execution_count": 21,
      "outputs": [
        {
          "output_type": "execute_result",
          "data": {
            "text/html": [
              "<div>\n",
              "<style scoped>\n",
              "    .dataframe tbody tr th:only-of-type {\n",
              "        vertical-align: middle;\n",
              "    }\n",
              "\n",
              "    .dataframe tbody tr th {\n",
              "        vertical-align: top;\n",
              "    }\n",
              "\n",
              "    .dataframe thead th {\n",
              "        text-align: right;\n",
              "    }\n",
              "</style>\n",
              "<table border=\"1\" class=\"dataframe\">\n",
              "  <thead>\n",
              "    <tr style=\"text-align: right;\">\n",
              "      <th>Name</th>\n",
              "      <th>proto</th>\n",
              "      <th>state</th>\n",
              "      <th>dur</th>\n",
              "      <th>sbytes</th>\n",
              "      <th>dbytes</th>\n",
              "      <th>sttl</th>\n",
              "      <th>dttl</th>\n",
              "      <th>service</th>\n",
              "      <th>sload</th>\n",
              "      <th>dload</th>\n",
              "      <th>spkts</th>\n",
              "      <th>swin</th>\n",
              "      <th>stcpb</th>\n",
              "      <th>dtcpb</th>\n",
              "      <th>smeansz</th>\n",
              "      <th>dmeansz</th>\n",
              "      <th>trans_depth</th>\n",
              "      <th>res_bdy_len</th>\n",
              "      <th>sjit</th>\n",
              "      <th>djit</th>\n",
              "      <th>stime</th>\n",
              "      <th>sintpkt</th>\n",
              "      <th>dintpkt</th>\n",
              "      <th>tcprtt</th>\n",
              "      <th>synack</th>\n",
              "      <th>ackdat</th>\n",
              "      <th>is_sm_ips_ports</th>\n",
              "      <th>ct_state_ttl</th>\n",
              "      <th>ct_flw_http_mthd</th>\n",
              "      <th>is_ftp_login</th>\n",
              "      <th>ct_ftp_cmd</th>\n",
              "      <th>ct_srv_src</th>\n",
              "      <th>ct_dst_ltm</th>\n",
              "      <th>ct_src_ltm</th>\n",
              "      <th>ct_dst_sport_ltm</th>\n",
              "      <th>label</th>\n",
              "      <th>network_bytes</th>\n",
              "    </tr>\n",
              "  </thead>\n",
              "  <tbody>\n",
              "    <tr>\n",
              "      <th>262209</th>\n",
              "      <td>tcp</td>\n",
              "      <td>FIN</td>\n",
              "      <td>0.029975</td>\n",
              "      <td>4014</td>\n",
              "      <td>57836</td>\n",
              "      <td>31</td>\n",
              "      <td>29</td>\n",
              "      <td>-</td>\n",
              "      <td>1.055546e+06</td>\n",
              "      <td>1.521535e+07</td>\n",
              "      <td>68</td>\n",
              "      <td>255</td>\n",
              "      <td>208235019</td>\n",
              "      <td>2373132436</td>\n",
              "      <td>59</td>\n",
              "      <td>826</td>\n",
              "      <td>0</td>\n",
              "      <td>0</td>\n",
              "      <td>0.000000</td>\n",
              "      <td>23.540364</td>\n",
              "      <td>1421937769</td>\n",
              "      <td>0.442597</td>\n",
              "      <td>0.426304</td>\n",
              "      <td>0.000695</td>\n",
              "      <td>0.000556</td>\n",
              "      <td>0.000139</td>\n",
              "      <td>0</td>\n",
              "      <td>0</td>\n",
              "      <td>0.0</td>\n",
              "      <td>0</td>\n",
              "      <td>0</td>\n",
              "      <td>8</td>\n",
              "      <td>1</td>\n",
              "      <td>2</td>\n",
              "      <td>1</td>\n",
              "      <td>0</td>\n",
              "      <td>61850</td>\n",
              "    </tr>\n",
              "    <tr>\n",
              "      <th>225020</th>\n",
              "      <td>tcp</td>\n",
              "      <td>FIN</td>\n",
              "      <td>0.010853</td>\n",
              "      <td>2230</td>\n",
              "      <td>13288</td>\n",
              "      <td>31</td>\n",
              "      <td>29</td>\n",
              "      <td>-</td>\n",
              "      <td>1.595872e+06</td>\n",
              "      <td>9.522897e+06</td>\n",
              "      <td>34</td>\n",
              "      <td>255</td>\n",
              "      <td>487867095</td>\n",
              "      <td>2637725120</td>\n",
              "      <td>66</td>\n",
              "      <td>369</td>\n",
              "      <td>0</td>\n",
              "      <td>0</td>\n",
              "      <td>22.672907</td>\n",
              "      <td>21.542192</td>\n",
              "      <td>1421936048</td>\n",
              "      <td>0.319697</td>\n",
              "      <td>0.294771</td>\n",
              "      <td>0.000653</td>\n",
              "      <td>0.000529</td>\n",
              "      <td>0.000124</td>\n",
              "      <td>0</td>\n",
              "      <td>0</td>\n",
              "      <td>0.0</td>\n",
              "      <td>0</td>\n",
              "      <td>0</td>\n",
              "      <td>11</td>\n",
              "      <td>4</td>\n",
              "      <td>5</td>\n",
              "      <td>1</td>\n",
              "      <td>0</td>\n",
              "      <td>15518</td>\n",
              "    </tr>\n",
              "    <tr>\n",
              "      <th>1802864</th>\n",
              "      <td>tcp</td>\n",
              "      <td>FIN</td>\n",
              "      <td>1.094710</td>\n",
              "      <td>1684</td>\n",
              "      <td>10168</td>\n",
              "      <td>31</td>\n",
              "      <td>29</td>\n",
              "      <td>http</td>\n",
              "      <td>1.142951e+04</td>\n",
              "      <td>7.018480e+04</td>\n",
              "      <td>14</td>\n",
              "      <td>255</td>\n",
              "      <td>536716439</td>\n",
              "      <td>2687376793</td>\n",
              "      <td>120</td>\n",
              "      <td>565</td>\n",
              "      <td>0</td>\n",
              "      <td>0</td>\n",
              "      <td>8797.576648</td>\n",
              "      <td>7703.519992</td>\n",
              "      <td>1424241707</td>\n",
              "      <td>84.182154</td>\n",
              "      <td>64.361529</td>\n",
              "      <td>0.000721</td>\n",
              "      <td>0.000560</td>\n",
              "      <td>0.000161</td>\n",
              "      <td>0</td>\n",
              "      <td>0</td>\n",
              "      <td>0.0</td>\n",
              "      <td>0</td>\n",
              "      <td>0</td>\n",
              "      <td>2</td>\n",
              "      <td>4</td>\n",
              "      <td>3</td>\n",
              "      <td>1</td>\n",
              "      <td>0</td>\n",
              "      <td>11852</td>\n",
              "    </tr>\n",
              "    <tr>\n",
              "      <th>919097</th>\n",
              "      <td>tcp</td>\n",
              "      <td>FIN</td>\n",
              "      <td>0.021920</td>\n",
              "      <td>2558</td>\n",
              "      <td>23268</td>\n",
              "      <td>31</td>\n",
              "      <td>29</td>\n",
              "      <td>-</td>\n",
              "      <td>9.105840e+05</td>\n",
              "      <td>8.289782e+06</td>\n",
              "      <td>40</td>\n",
              "      <td>255</td>\n",
              "      <td>3496437099</td>\n",
              "      <td>1347167990</td>\n",
              "      <td>64</td>\n",
              "      <td>554</td>\n",
              "      <td>0</td>\n",
              "      <td>0</td>\n",
              "      <td>35.582433</td>\n",
              "      <td>34.630980</td>\n",
              "      <td>1421965378</td>\n",
              "      <td>0.553359</td>\n",
              "      <td>0.532800</td>\n",
              "      <td>0.000743</td>\n",
              "      <td>0.000598</td>\n",
              "      <td>0.000145</td>\n",
              "      <td>0</td>\n",
              "      <td>0</td>\n",
              "      <td>0.0</td>\n",
              "      <td>0</td>\n",
              "      <td>0</td>\n",
              "      <td>9</td>\n",
              "      <td>3</td>\n",
              "      <td>2</td>\n",
              "      <td>1</td>\n",
              "      <td>0</td>\n",
              "      <td>25826</td>\n",
              "    </tr>\n",
              "    <tr>\n",
              "      <th>1401105</th>\n",
              "      <td>tcp</td>\n",
              "      <td>FIN</td>\n",
              "      <td>1.034522</td>\n",
              "      <td>1580</td>\n",
              "      <td>10168</td>\n",
              "      <td>31</td>\n",
              "      <td>29</td>\n",
              "      <td>http</td>\n",
              "      <td>1.120517e+04</td>\n",
              "      <td>7.426811e+04</td>\n",
              "      <td>12</td>\n",
              "      <td>255</td>\n",
              "      <td>683548608</td>\n",
              "      <td>2834137940</td>\n",
              "      <td>132</td>\n",
              "      <td>565</td>\n",
              "      <td>1</td>\n",
              "      <td>3924</td>\n",
              "      <td>9598.045575</td>\n",
              "      <td>7776.927343</td>\n",
              "      <td>1424231163</td>\n",
              "      <td>94.015000</td>\n",
              "      <td>60.825767</td>\n",
              "      <td>0.000597</td>\n",
              "      <td>0.000479</td>\n",
              "      <td>0.000118</td>\n",
              "      <td>0</td>\n",
              "      <td>0</td>\n",
              "      <td>1.0</td>\n",
              "      <td>0</td>\n",
              "      <td>0</td>\n",
              "      <td>2</td>\n",
              "      <td>1</td>\n",
              "      <td>4</td>\n",
              "      <td>1</td>\n",
              "      <td>0</td>\n",
              "      <td>11748</td>\n",
              "    </tr>\n",
              "  </tbody>\n",
              "</table>\n",
              "</div>"
            ],
            "text/plain": [
              "Name    proto state       dur  ...  ct_dst_sport_ltm  label  network_bytes\n",
              "262209    tcp   FIN  0.029975  ...                 1      0          61850\n",
              "225020    tcp   FIN  0.010853  ...                 1      0          15518\n",
              "1802864   tcp   FIN  1.094710  ...                 1      0          11852\n",
              "919097    tcp   FIN  0.021920  ...                 1      0          25826\n",
              "1401105   tcp   FIN  1.034522  ...                 1      0          11748\n",
              "\n",
              "[5 rows x 37 columns]"
            ]
          },
          "metadata": {
            "tags": []
          },
          "execution_count": 21
        }
      ]
    },
    {
      "cell_type": "code",
      "metadata": {
        "colab": {
          "base_uri": "https://localhost:8080/"
        },
        "id": "W032tU3BiUt0",
        "outputId": "91273032-803c-4601-d3b8-1c6f87d2a44a"
      },
      "source": [
        "train.shape, test.shape"
      ],
      "execution_count": 22,
      "outputs": [
        {
          "output_type": "execute_result",
          "data": {
            "text/plain": [
              "((1778032, 37), (762015, 49))"
            ]
          },
          "metadata": {
            "tags": []
          },
          "execution_count": 22
        }
      ]
    },
    {
      "cell_type": "markdown",
      "metadata": {
        "id": "qB-rVqS4nsGU"
      },
      "source": [
        "Standardizing"
      ]
    },
    {
      "cell_type": "code",
      "metadata": {
        "colab": {
          "base_uri": "https://localhost:8080/"
        },
        "id": "6nh0sI3epD3s",
        "outputId": "377ad9c7-6ee0-4a53-cb25-6a92e4c83b43"
      },
      "source": [
        "train.info()"
      ],
      "execution_count": 23,
      "outputs": [
        {
          "output_type": "stream",
          "text": [
            "<class 'pandas.core.frame.DataFrame'>\n",
            "Int64Index: 1778032 entries, 262209 to 305711\n",
            "Data columns (total 37 columns):\n",
            " #   Column            Dtype  \n",
            "---  ------            -----  \n",
            " 0   proto             object \n",
            " 1   state             object \n",
            " 2   dur               float64\n",
            " 3   sbytes            int64  \n",
            " 4   dbytes            int64  \n",
            " 5   sttl              int64  \n",
            " 6   dttl              int64  \n",
            " 7   service           object \n",
            " 8   sload             float64\n",
            " 9   dload             float64\n",
            " 10  spkts             int64  \n",
            " 11  swin              int64  \n",
            " 12  stcpb             int64  \n",
            " 13  dtcpb             int64  \n",
            " 14  smeansz           int64  \n",
            " 15  dmeansz           int64  \n",
            " 16  trans_depth       int64  \n",
            " 17  res_bdy_len       int64  \n",
            " 18  sjit              float64\n",
            " 19  djit              float64\n",
            " 20  stime             int64  \n",
            " 21  sintpkt           float64\n",
            " 22  dintpkt           float64\n",
            " 23  tcprtt            float64\n",
            " 24  synack            float64\n",
            " 25  ackdat            float64\n",
            " 26  is_sm_ips_ports   int64  \n",
            " 27  ct_state_ttl      int64  \n",
            " 28  ct_flw_http_mthd  float64\n",
            " 29  is_ftp_login      int64  \n",
            " 30  ct_ftp_cmd        int64  \n",
            " 31  ct_srv_src        int64  \n",
            " 32  ct_dst_ltm        int64  \n",
            " 33  ct_src_ltm        int64  \n",
            " 34  ct_dst_sport_ltm  int64  \n",
            " 35  label             int64  \n",
            " 36  network_bytes     int64  \n",
            "dtypes: float64(11), int64(23), object(3)\n",
            "memory usage: 515.5+ MB\n"
          ],
          "name": "stdout"
        }
      ]
    },
    {
      "cell_type": "code",
      "metadata": {
        "id": "7r1Rd9DEn_Do",
        "colab": {
          "base_uri": "https://localhost:8080/"
        },
        "outputId": "193ea384-ae90-4d27-eac6-c3b77739bfa0"
      },
      "source": [
        "X_train, Y_train = train.drop(columns=['label']), train['label']\r\n",
        "X_test, Y_test = test.drop(columns=['label']), test['label']\r\n",
        "print(X_train.shape, Y_train.shape)\r\n",
        "print()\r\n",
        "print(X_test.shape, Y_test.shape)"
      ],
      "execution_count": 24,
      "outputs": [
        {
          "output_type": "stream",
          "text": [
            "(1778032, 36) (1778032,)\n",
            "\n",
            "(762015, 48) (762015,)\n"
          ],
          "name": "stdout"
        }
      ]
    },
    {
      "cell_type": "code",
      "metadata": {
        "id": "mIqH6YjGB00f"
      },
      "source": [
        "cat_col = ['proto', 'service', 'state']\r\n",
        "num_col = list(set(X_train.columns) - set(cat_col))"
      ],
      "execution_count": 25,
      "outputs": []
    },
    {
      "cell_type": "code",
      "metadata": {
        "colab": {
          "base_uri": "https://localhost:8080/",
          "height": 214
        },
        "id": "UpNo0yUwnkII",
        "outputId": "563aa692-00f5-4530-a44c-f0d8b530faa4"
      },
      "source": [
        "scaler = StandardScaler()\r\n",
        "scaler = scaler.fit(X_train[num_col])\r\n",
        "X_train[num_col] = scaler.transform(X_train[num_col])\r\n",
        "X_train.head()"
      ],
      "execution_count": 26,
      "outputs": [
        {
          "output_type": "execute_result",
          "data": {
            "text/html": [
              "<div>\n",
              "<style scoped>\n",
              "    .dataframe tbody tr th:only-of-type {\n",
              "        vertical-align: middle;\n",
              "    }\n",
              "\n",
              "    .dataframe tbody tr th {\n",
              "        vertical-align: top;\n",
              "    }\n",
              "\n",
              "    .dataframe thead th {\n",
              "        text-align: right;\n",
              "    }\n",
              "</style>\n",
              "<table border=\"1\" class=\"dataframe\">\n",
              "  <thead>\n",
              "    <tr style=\"text-align: right;\">\n",
              "      <th>Name</th>\n",
              "      <th>proto</th>\n",
              "      <th>state</th>\n",
              "      <th>dur</th>\n",
              "      <th>sbytes</th>\n",
              "      <th>dbytes</th>\n",
              "      <th>sttl</th>\n",
              "      <th>dttl</th>\n",
              "      <th>service</th>\n",
              "      <th>sload</th>\n",
              "      <th>dload</th>\n",
              "      <th>spkts</th>\n",
              "      <th>swin</th>\n",
              "      <th>stcpb</th>\n",
              "      <th>dtcpb</th>\n",
              "      <th>smeansz</th>\n",
              "      <th>dmeansz</th>\n",
              "      <th>trans_depth</th>\n",
              "      <th>res_bdy_len</th>\n",
              "      <th>sjit</th>\n",
              "      <th>djit</th>\n",
              "      <th>stime</th>\n",
              "      <th>sintpkt</th>\n",
              "      <th>dintpkt</th>\n",
              "      <th>tcprtt</th>\n",
              "      <th>synack</th>\n",
              "      <th>ackdat</th>\n",
              "      <th>is_sm_ips_ports</th>\n",
              "      <th>ct_state_ttl</th>\n",
              "      <th>ct_flw_http_mthd</th>\n",
              "      <th>is_ftp_login</th>\n",
              "      <th>ct_ftp_cmd</th>\n",
              "      <th>ct_srv_src</th>\n",
              "      <th>ct_dst_ltm</th>\n",
              "      <th>ct_src_ltm</th>\n",
              "      <th>ct_dst_sport_ltm</th>\n",
              "      <th>network_bytes</th>\n",
              "    </tr>\n",
              "  </thead>\n",
              "  <tbody>\n",
              "    <tr>\n",
              "      <th>262209</th>\n",
              "      <td>tcp</td>\n",
              "      <td>FIN</td>\n",
              "      <td>-0.046140</td>\n",
              "      <td>-0.006270</td>\n",
              "      <td>0.132535</td>\n",
              "      <td>-0.425783</td>\n",
              "      <td>-0.041305</td>\n",
              "      <td>-</td>\n",
              "      <td>-0.302124</td>\n",
              "      <td>3.019628</td>\n",
              "      <td>0.445717</td>\n",
              "      <td>0.836302</td>\n",
              "      <td>-0.740593</td>\n",
              "      <td>0.781429</td>\n",
              "      <td>-0.429488</td>\n",
              "      <td>1.635754</td>\n",
              "      <td>-0.230249</td>\n",
              "      <td>-0.089048</td>\n",
              "      <td>-0.093240</td>\n",
              "      <td>-0.207167</td>\n",
              "      <td>-1.166419</td>\n",
              "      <td>-0.069432</td>\n",
              "      <td>-0.054834</td>\n",
              "      <td>-0.120100</td>\n",
              "      <td>-0.106629</td>\n",
              "      <td>-0.115731</td>\n",
              "      <td>-0.04078</td>\n",
              "      <td>-0.38207</td>\n",
              "      <td>-0.198510</td>\n",
              "      <td>-0.129755</td>\n",
              "      <td>-0.11121</td>\n",
              "      <td>-0.111230</td>\n",
              "      <td>-0.666231</td>\n",
              "      <td>-0.597361</td>\n",
              "      <td>-0.419784</td>\n",
              "      <td>0.120338</td>\n",
              "    </tr>\n",
              "    <tr>\n",
              "      <th>225020</th>\n",
              "      <td>tcp</td>\n",
              "      <td>FIN</td>\n",
              "      <td>-0.047545</td>\n",
              "      <td>-0.036115</td>\n",
              "      <td>-0.144060</td>\n",
              "      <td>-0.425783</td>\n",
              "      <td>-0.041305</td>\n",
              "      <td>-</td>\n",
              "      <td>-0.297580</td>\n",
              "      <td>1.672873</td>\n",
              "      <td>0.008467</td>\n",
              "      <td>0.836302</td>\n",
              "      <td>-0.543891</td>\n",
              "      <td>0.967480</td>\n",
              "      <td>-0.383469</td>\n",
              "      <td>0.274769</td>\n",
              "      <td>-0.230249</td>\n",
              "      <td>-0.089048</td>\n",
              "      <td>-0.091917</td>\n",
              "      <td>-0.207753</td>\n",
              "      <td>-1.167936</td>\n",
              "      <td>-0.069476</td>\n",
              "      <td>-0.054926</td>\n",
              "      <td>-0.121023</td>\n",
              "      <td>-0.107687</td>\n",
              "      <td>-0.116362</td>\n",
              "      <td>-0.04078</td>\n",
              "      <td>-0.38207</td>\n",
              "      <td>-0.198510</td>\n",
              "      <td>-0.129755</td>\n",
              "      <td>-0.11121</td>\n",
              "      <td>0.165597</td>\n",
              "      <td>-0.298814</td>\n",
              "      <td>-0.231895</td>\n",
              "      <td>-0.419784</td>\n",
              "      <td>-0.145527</td>\n",
              "    </tr>\n",
              "    <tr>\n",
              "      <th>1802864</th>\n",
              "      <td>tcp</td>\n",
              "      <td>FIN</td>\n",
              "      <td>0.032112</td>\n",
              "      <td>-0.045249</td>\n",
              "      <td>-0.163432</td>\n",
              "      <td>-0.425783</td>\n",
              "      <td>-0.041305</td>\n",
              "      <td>http</td>\n",
              "      <td>-0.310905</td>\n",
              "      <td>-0.563508</td>\n",
              "      <td>-0.248738</td>\n",
              "      <td>0.836302</td>\n",
              "      <td>-0.509529</td>\n",
              "      <td>1.002393</td>\n",
              "      <td>-0.028465</td>\n",
              "      <td>0.858474</td>\n",
              "      <td>-0.230249</td>\n",
              "      <td>-0.089048</td>\n",
              "      <td>0.420044</td>\n",
              "      <td>2.046140</td>\n",
              "      <td>0.864520</td>\n",
              "      <td>-0.039328</td>\n",
              "      <td>-0.010124</td>\n",
              "      <td>-0.119529</td>\n",
              "      <td>-0.106472</td>\n",
              "      <td>-0.114805</td>\n",
              "      <td>-0.04078</td>\n",
              "      <td>-0.38207</td>\n",
              "      <td>-0.198510</td>\n",
              "      <td>-0.129755</td>\n",
              "      <td>-0.11121</td>\n",
              "      <td>-0.664883</td>\n",
              "      <td>-0.298814</td>\n",
              "      <td>-0.475539</td>\n",
              "      <td>-0.419784</td>\n",
              "      <td>-0.166563</td>\n",
              "    </tr>\n",
              "    <tr>\n",
              "      <th>919097</th>\n",
              "      <td>tcp</td>\n",
              "      <td>FIN</td>\n",
              "      <td>-0.046732</td>\n",
              "      <td>-0.030628</td>\n",
              "      <td>-0.082095</td>\n",
              "      <td>-0.425783</td>\n",
              "      <td>-0.041305</td>\n",
              "      <td>-</td>\n",
              "      <td>-0.303343</td>\n",
              "      <td>1.381135</td>\n",
              "      <td>0.085629</td>\n",
              "      <td>0.836302</td>\n",
              "      <td>1.572426</td>\n",
              "      <td>0.060013</td>\n",
              "      <td>-0.396617</td>\n",
              "      <td>0.825715</td>\n",
              "      <td>-0.230249</td>\n",
              "      <td>-0.089048</td>\n",
              "      <td>-0.091164</td>\n",
              "      <td>-0.203913</td>\n",
              "      <td>-1.142081</td>\n",
              "      <td>-0.069392</td>\n",
              "      <td>-0.054760</td>\n",
              "      <td>-0.119046</td>\n",
              "      <td>-0.104982</td>\n",
              "      <td>-0.115478</td>\n",
              "      <td>-0.04078</td>\n",
              "      <td>-0.38207</td>\n",
              "      <td>-0.198510</td>\n",
              "      <td>-0.129755</td>\n",
              "      <td>-0.11121</td>\n",
              "      <td>-0.018955</td>\n",
              "      <td>-0.421286</td>\n",
              "      <td>-0.597361</td>\n",
              "      <td>-0.419784</td>\n",
              "      <td>-0.086377</td>\n",
              "    </tr>\n",
              "    <tr>\n",
              "      <th>1401105</th>\n",
              "      <td>tcp</td>\n",
              "      <td>FIN</td>\n",
              "      <td>0.027688</td>\n",
              "      <td>-0.046989</td>\n",
              "      <td>-0.163432</td>\n",
              "      <td>-0.425783</td>\n",
              "      <td>-0.041305</td>\n",
              "      <td>http</td>\n",
              "      <td>-0.310907</td>\n",
              "      <td>-0.562542</td>\n",
              "      <td>-0.274459</td>\n",
              "      <td>0.836302</td>\n",
              "      <td>-0.406243</td>\n",
              "      <td>1.105590</td>\n",
              "      <td>0.050425</td>\n",
              "      <td>0.858474</td>\n",
              "      <td>2.534910</td>\n",
              "      <td>-0.006863</td>\n",
              "      <td>0.466746</td>\n",
              "      <td>2.067678</td>\n",
              "      <td>0.855226</td>\n",
              "      <td>-0.035793</td>\n",
              "      <td>-0.012596</td>\n",
              "      <td>-0.122252</td>\n",
              "      <td>-0.109647</td>\n",
              "      <td>-0.116615</td>\n",
              "      <td>-0.04078</td>\n",
              "      <td>-0.38207</td>\n",
              "      <td>1.609285</td>\n",
              "      <td>-0.129755</td>\n",
              "      <td>-0.11121</td>\n",
              "      <td>-0.664883</td>\n",
              "      <td>-0.666231</td>\n",
              "      <td>-0.353717</td>\n",
              "      <td>-0.419784</td>\n",
              "      <td>-0.167160</td>\n",
              "    </tr>\n",
              "  </tbody>\n",
              "</table>\n",
              "</div>"
            ],
            "text/plain": [
              "Name    proto state       dur  ...  ct_src_ltm  ct_dst_sport_ltm  network_bytes\n",
              "262209    tcp   FIN -0.046140  ...   -0.597361         -0.419784       0.120338\n",
              "225020    tcp   FIN -0.047545  ...   -0.231895         -0.419784      -0.145527\n",
              "1802864   tcp   FIN  0.032112  ...   -0.475539         -0.419784      -0.166563\n",
              "919097    tcp   FIN -0.046732  ...   -0.597361         -0.419784      -0.086377\n",
              "1401105   tcp   FIN  0.027688  ...   -0.353717         -0.419784      -0.167160\n",
              "\n",
              "[5 rows x 36 columns]"
            ]
          },
          "metadata": {
            "tags": []
          },
          "execution_count": 26
        }
      ]
    },
    {
      "cell_type": "markdown",
      "metadata": {
        "id": "cEGR-ujoqZyH"
      },
      "source": [
        "Modifying Categorical data"
      ]
    },
    {
      "cell_type": "code",
      "metadata": {
        "id": "kk7lb0Gbt_z9"
      },
      "source": [
        "X_train.drop('proto', axis = 1, inplace = True)\r\n",
        "X_train.drop('state', axis = 1, inplace = True)\r\n",
        "X_train.drop('service', axis = 1, inplace = True)"
      ],
      "execution_count": 27,
      "outputs": []
    },
    {
      "cell_type": "code",
      "metadata": {
        "colab": {
          "base_uri": "https://localhost:8080/",
          "height": 214
        },
        "id": "pzgdKLDLA-0C",
        "outputId": "427fd4df-a52f-447e-c479-8f4fc5bf1d2b"
      },
      "source": [
        "X_train.head()"
      ],
      "execution_count": 28,
      "outputs": [
        {
          "output_type": "execute_result",
          "data": {
            "text/html": [
              "<div>\n",
              "<style scoped>\n",
              "    .dataframe tbody tr th:only-of-type {\n",
              "        vertical-align: middle;\n",
              "    }\n",
              "\n",
              "    .dataframe tbody tr th {\n",
              "        vertical-align: top;\n",
              "    }\n",
              "\n",
              "    .dataframe thead th {\n",
              "        text-align: right;\n",
              "    }\n",
              "</style>\n",
              "<table border=\"1\" class=\"dataframe\">\n",
              "  <thead>\n",
              "    <tr style=\"text-align: right;\">\n",
              "      <th>Name</th>\n",
              "      <th>dur</th>\n",
              "      <th>sbytes</th>\n",
              "      <th>dbytes</th>\n",
              "      <th>sttl</th>\n",
              "      <th>dttl</th>\n",
              "      <th>sload</th>\n",
              "      <th>dload</th>\n",
              "      <th>spkts</th>\n",
              "      <th>swin</th>\n",
              "      <th>stcpb</th>\n",
              "      <th>dtcpb</th>\n",
              "      <th>smeansz</th>\n",
              "      <th>dmeansz</th>\n",
              "      <th>trans_depth</th>\n",
              "      <th>res_bdy_len</th>\n",
              "      <th>sjit</th>\n",
              "      <th>djit</th>\n",
              "      <th>stime</th>\n",
              "      <th>sintpkt</th>\n",
              "      <th>dintpkt</th>\n",
              "      <th>tcprtt</th>\n",
              "      <th>synack</th>\n",
              "      <th>ackdat</th>\n",
              "      <th>is_sm_ips_ports</th>\n",
              "      <th>ct_state_ttl</th>\n",
              "      <th>ct_flw_http_mthd</th>\n",
              "      <th>is_ftp_login</th>\n",
              "      <th>ct_ftp_cmd</th>\n",
              "      <th>ct_srv_src</th>\n",
              "      <th>ct_dst_ltm</th>\n",
              "      <th>ct_src_ltm</th>\n",
              "      <th>ct_dst_sport_ltm</th>\n",
              "      <th>network_bytes</th>\n",
              "    </tr>\n",
              "  </thead>\n",
              "  <tbody>\n",
              "    <tr>\n",
              "      <th>262209</th>\n",
              "      <td>-0.046140</td>\n",
              "      <td>-0.006270</td>\n",
              "      <td>0.132535</td>\n",
              "      <td>-0.425783</td>\n",
              "      <td>-0.041305</td>\n",
              "      <td>-0.302124</td>\n",
              "      <td>3.019628</td>\n",
              "      <td>0.445717</td>\n",
              "      <td>0.836302</td>\n",
              "      <td>-0.740593</td>\n",
              "      <td>0.781429</td>\n",
              "      <td>-0.429488</td>\n",
              "      <td>1.635754</td>\n",
              "      <td>-0.230249</td>\n",
              "      <td>-0.089048</td>\n",
              "      <td>-0.093240</td>\n",
              "      <td>-0.207167</td>\n",
              "      <td>-1.166419</td>\n",
              "      <td>-0.069432</td>\n",
              "      <td>-0.054834</td>\n",
              "      <td>-0.120100</td>\n",
              "      <td>-0.106629</td>\n",
              "      <td>-0.115731</td>\n",
              "      <td>-0.04078</td>\n",
              "      <td>-0.38207</td>\n",
              "      <td>-0.198510</td>\n",
              "      <td>-0.129755</td>\n",
              "      <td>-0.11121</td>\n",
              "      <td>-0.111230</td>\n",
              "      <td>-0.666231</td>\n",
              "      <td>-0.597361</td>\n",
              "      <td>-0.419784</td>\n",
              "      <td>0.120338</td>\n",
              "    </tr>\n",
              "    <tr>\n",
              "      <th>225020</th>\n",
              "      <td>-0.047545</td>\n",
              "      <td>-0.036115</td>\n",
              "      <td>-0.144060</td>\n",
              "      <td>-0.425783</td>\n",
              "      <td>-0.041305</td>\n",
              "      <td>-0.297580</td>\n",
              "      <td>1.672873</td>\n",
              "      <td>0.008467</td>\n",
              "      <td>0.836302</td>\n",
              "      <td>-0.543891</td>\n",
              "      <td>0.967480</td>\n",
              "      <td>-0.383469</td>\n",
              "      <td>0.274769</td>\n",
              "      <td>-0.230249</td>\n",
              "      <td>-0.089048</td>\n",
              "      <td>-0.091917</td>\n",
              "      <td>-0.207753</td>\n",
              "      <td>-1.167936</td>\n",
              "      <td>-0.069476</td>\n",
              "      <td>-0.054926</td>\n",
              "      <td>-0.121023</td>\n",
              "      <td>-0.107687</td>\n",
              "      <td>-0.116362</td>\n",
              "      <td>-0.04078</td>\n",
              "      <td>-0.38207</td>\n",
              "      <td>-0.198510</td>\n",
              "      <td>-0.129755</td>\n",
              "      <td>-0.11121</td>\n",
              "      <td>0.165597</td>\n",
              "      <td>-0.298814</td>\n",
              "      <td>-0.231895</td>\n",
              "      <td>-0.419784</td>\n",
              "      <td>-0.145527</td>\n",
              "    </tr>\n",
              "    <tr>\n",
              "      <th>1802864</th>\n",
              "      <td>0.032112</td>\n",
              "      <td>-0.045249</td>\n",
              "      <td>-0.163432</td>\n",
              "      <td>-0.425783</td>\n",
              "      <td>-0.041305</td>\n",
              "      <td>-0.310905</td>\n",
              "      <td>-0.563508</td>\n",
              "      <td>-0.248738</td>\n",
              "      <td>0.836302</td>\n",
              "      <td>-0.509529</td>\n",
              "      <td>1.002393</td>\n",
              "      <td>-0.028465</td>\n",
              "      <td>0.858474</td>\n",
              "      <td>-0.230249</td>\n",
              "      <td>-0.089048</td>\n",
              "      <td>0.420044</td>\n",
              "      <td>2.046140</td>\n",
              "      <td>0.864520</td>\n",
              "      <td>-0.039328</td>\n",
              "      <td>-0.010124</td>\n",
              "      <td>-0.119529</td>\n",
              "      <td>-0.106472</td>\n",
              "      <td>-0.114805</td>\n",
              "      <td>-0.04078</td>\n",
              "      <td>-0.38207</td>\n",
              "      <td>-0.198510</td>\n",
              "      <td>-0.129755</td>\n",
              "      <td>-0.11121</td>\n",
              "      <td>-0.664883</td>\n",
              "      <td>-0.298814</td>\n",
              "      <td>-0.475539</td>\n",
              "      <td>-0.419784</td>\n",
              "      <td>-0.166563</td>\n",
              "    </tr>\n",
              "    <tr>\n",
              "      <th>919097</th>\n",
              "      <td>-0.046732</td>\n",
              "      <td>-0.030628</td>\n",
              "      <td>-0.082095</td>\n",
              "      <td>-0.425783</td>\n",
              "      <td>-0.041305</td>\n",
              "      <td>-0.303343</td>\n",
              "      <td>1.381135</td>\n",
              "      <td>0.085629</td>\n",
              "      <td>0.836302</td>\n",
              "      <td>1.572426</td>\n",
              "      <td>0.060013</td>\n",
              "      <td>-0.396617</td>\n",
              "      <td>0.825715</td>\n",
              "      <td>-0.230249</td>\n",
              "      <td>-0.089048</td>\n",
              "      <td>-0.091164</td>\n",
              "      <td>-0.203913</td>\n",
              "      <td>-1.142081</td>\n",
              "      <td>-0.069392</td>\n",
              "      <td>-0.054760</td>\n",
              "      <td>-0.119046</td>\n",
              "      <td>-0.104982</td>\n",
              "      <td>-0.115478</td>\n",
              "      <td>-0.04078</td>\n",
              "      <td>-0.38207</td>\n",
              "      <td>-0.198510</td>\n",
              "      <td>-0.129755</td>\n",
              "      <td>-0.11121</td>\n",
              "      <td>-0.018955</td>\n",
              "      <td>-0.421286</td>\n",
              "      <td>-0.597361</td>\n",
              "      <td>-0.419784</td>\n",
              "      <td>-0.086377</td>\n",
              "    </tr>\n",
              "    <tr>\n",
              "      <th>1401105</th>\n",
              "      <td>0.027688</td>\n",
              "      <td>-0.046989</td>\n",
              "      <td>-0.163432</td>\n",
              "      <td>-0.425783</td>\n",
              "      <td>-0.041305</td>\n",
              "      <td>-0.310907</td>\n",
              "      <td>-0.562542</td>\n",
              "      <td>-0.274459</td>\n",
              "      <td>0.836302</td>\n",
              "      <td>-0.406243</td>\n",
              "      <td>1.105590</td>\n",
              "      <td>0.050425</td>\n",
              "      <td>0.858474</td>\n",
              "      <td>2.534910</td>\n",
              "      <td>-0.006863</td>\n",
              "      <td>0.466746</td>\n",
              "      <td>2.067678</td>\n",
              "      <td>0.855226</td>\n",
              "      <td>-0.035793</td>\n",
              "      <td>-0.012596</td>\n",
              "      <td>-0.122252</td>\n",
              "      <td>-0.109647</td>\n",
              "      <td>-0.116615</td>\n",
              "      <td>-0.04078</td>\n",
              "      <td>-0.38207</td>\n",
              "      <td>1.609285</td>\n",
              "      <td>-0.129755</td>\n",
              "      <td>-0.11121</td>\n",
              "      <td>-0.664883</td>\n",
              "      <td>-0.666231</td>\n",
              "      <td>-0.353717</td>\n",
              "      <td>-0.419784</td>\n",
              "      <td>-0.167160</td>\n",
              "    </tr>\n",
              "  </tbody>\n",
              "</table>\n",
              "</div>"
            ],
            "text/plain": [
              "Name          dur    sbytes  ...  ct_dst_sport_ltm  network_bytes\n",
              "262209  -0.046140 -0.006270  ...         -0.419784       0.120338\n",
              "225020  -0.047545 -0.036115  ...         -0.419784      -0.145527\n",
              "1802864  0.032112 -0.045249  ...         -0.419784      -0.166563\n",
              "919097  -0.046732 -0.030628  ...         -0.419784      -0.086377\n",
              "1401105  0.027688 -0.046989  ...         -0.419784      -0.167160\n",
              "\n",
              "[5 rows x 33 columns]"
            ]
          },
          "metadata": {
            "tags": []
          },
          "execution_count": 28
        }
      ]
    },
    {
      "cell_type": "code",
      "metadata": {
        "colab": {
          "base_uri": "https://localhost:8080/"
        },
        "id": "zNPowdT6BGgS",
        "outputId": "99bdad0c-07e7-4d44-a350-4625cc129d92"
      },
      "source": [
        "X_train.shape"
      ],
      "execution_count": 29,
      "outputs": [
        {
          "output_type": "execute_result",
          "data": {
            "text/plain": [
              "(1778032, 33)"
            ]
          },
          "metadata": {
            "tags": []
          },
          "execution_count": 29
        }
      ]
    },
    {
      "cell_type": "code",
      "metadata": {
        "id": "V6elt4Xg3hIr"
      },
      "source": [
        "X_test.reset_index(drop=True, inplace=True)"
      ],
      "execution_count": 30,
      "outputs": []
    },
    {
      "cell_type": "code",
      "metadata": {
        "id": "Kkz-_1i94yWg"
      },
      "source": [
        "X_test['network_bytes'] = X_test['dbytes'] + X_test['sbytes']\r\n",
        "X_test.drop(['srcip', 'sport', 'dstip', 'dsport', 'attack_cat'], axis=1, inplace=True)\r\n",
        "X_test.drop(columns=to_drop, inplace=True)\r\n",
        "X_test.drop('proto', axis = 1, inplace = True)\r\n",
        "X_test.drop('state', axis = 1, inplace = True)\r\n",
        "X_test.drop('service', axis = 1, inplace = True)"
      ],
      "execution_count": 31,
      "outputs": []
    },
    {
      "cell_type": "code",
      "metadata": {
        "id": "XHK7uECnID1t"
      },
      "source": [
        "for col in X_test.columns:\r\n",
        "  X_test[col] = X_test[col].fillna(value=0)\r\n",
        "  X_test[col] = X_test[col].replace(' ', value=0)\r\n",
        "  X_test[col] = X_test[col].apply(lambda x:\"None\" if x==\"-\" else x)"
      ],
      "execution_count": 32,
      "outputs": []
    },
    {
      "cell_type": "code",
      "metadata": {
        "colab": {
          "base_uri": "https://localhost:8080/",
          "height": 214
        },
        "id": "nCx3ko_I8_E6",
        "outputId": "e350d53c-55b2-436f-ec3f-8a6ed1cf3576"
      },
      "source": [
        "X_test.head()"
      ],
      "execution_count": 33,
      "outputs": [
        {
          "output_type": "execute_result",
          "data": {
            "text/html": [
              "<div>\n",
              "<style scoped>\n",
              "    .dataframe tbody tr th:only-of-type {\n",
              "        vertical-align: middle;\n",
              "    }\n",
              "\n",
              "    .dataframe tbody tr th {\n",
              "        vertical-align: top;\n",
              "    }\n",
              "\n",
              "    .dataframe thead th {\n",
              "        text-align: right;\n",
              "    }\n",
              "</style>\n",
              "<table border=\"1\" class=\"dataframe\">\n",
              "  <thead>\n",
              "    <tr style=\"text-align: right;\">\n",
              "      <th>Name</th>\n",
              "      <th>dur</th>\n",
              "      <th>sbytes</th>\n",
              "      <th>dbytes</th>\n",
              "      <th>sttl</th>\n",
              "      <th>dttl</th>\n",
              "      <th>sload</th>\n",
              "      <th>dload</th>\n",
              "      <th>spkts</th>\n",
              "      <th>swin</th>\n",
              "      <th>stcpb</th>\n",
              "      <th>dtcpb</th>\n",
              "      <th>smeansz</th>\n",
              "      <th>dmeansz</th>\n",
              "      <th>trans_depth</th>\n",
              "      <th>res_bdy_len</th>\n",
              "      <th>sjit</th>\n",
              "      <th>djit</th>\n",
              "      <th>stime</th>\n",
              "      <th>sintpkt</th>\n",
              "      <th>dintpkt</th>\n",
              "      <th>tcprtt</th>\n",
              "      <th>synack</th>\n",
              "      <th>ackdat</th>\n",
              "      <th>is_sm_ips_ports</th>\n",
              "      <th>ct_state_ttl</th>\n",
              "      <th>ct_flw_http_mthd</th>\n",
              "      <th>is_ftp_login</th>\n",
              "      <th>ct_ftp_cmd</th>\n",
              "      <th>ct_srv_src</th>\n",
              "      <th>ct_dst_ltm</th>\n",
              "      <th>ct_src_ltm</th>\n",
              "      <th>ct_dst_sport_ltm</th>\n",
              "      <th>network_bytes</th>\n",
              "    </tr>\n",
              "  </thead>\n",
              "  <tbody>\n",
              "    <tr>\n",
              "      <th>0</th>\n",
              "      <td>0.001768</td>\n",
              "      <td>544</td>\n",
              "      <td>304</td>\n",
              "      <td>31</td>\n",
              "      <td>29</td>\n",
              "      <td>1.846154e+06</td>\n",
              "      <td>1.031674e+06</td>\n",
              "      <td>4</td>\n",
              "      <td>0</td>\n",
              "      <td>0</td>\n",
              "      <td>0</td>\n",
              "      <td>136</td>\n",
              "      <td>76</td>\n",
              "      <td>0</td>\n",
              "      <td>0</td>\n",
              "      <td>0.632862</td>\n",
              "      <td>0.319150</td>\n",
              "      <td>1421940916</td>\n",
              "      <td>0.454000</td>\n",
              "      <td>0.231667</td>\n",
              "      <td>0.000000</td>\n",
              "      <td>0.000000</td>\n",
              "      <td>0.000000</td>\n",
              "      <td>0</td>\n",
              "      <td>0</td>\n",
              "      <td>0.0</td>\n",
              "      <td>0.0</td>\n",
              "      <td>0</td>\n",
              "      <td>10</td>\n",
              "      <td>4</td>\n",
              "      <td>3</td>\n",
              "      <td>1</td>\n",
              "      <td>848</td>\n",
              "    </tr>\n",
              "    <tr>\n",
              "      <th>1</th>\n",
              "      <td>0.014909</td>\n",
              "      <td>2766</td>\n",
              "      <td>24114</td>\n",
              "      <td>31</td>\n",
              "      <td>29</td>\n",
              "      <td>1.450936e+06</td>\n",
              "      <td>1.265813e+07</td>\n",
              "      <td>44</td>\n",
              "      <td>255</td>\n",
              "      <td>2274036061</td>\n",
              "      <td>2302555701</td>\n",
              "      <td>63</td>\n",
              "      <td>524</td>\n",
              "      <td>0</td>\n",
              "      <td>0</td>\n",
              "      <td>0.000000</td>\n",
              "      <td>18.752942</td>\n",
              "      <td>1424224072</td>\n",
              "      <td>0.347429</td>\n",
              "      <td>0.318600</td>\n",
              "      <td>0.000691</td>\n",
              "      <td>0.000569</td>\n",
              "      <td>0.000122</td>\n",
              "      <td>0</td>\n",
              "      <td>0</td>\n",
              "      <td>0.0</td>\n",
              "      <td>0.0</td>\n",
              "      <td>0</td>\n",
              "      <td>13</td>\n",
              "      <td>2</td>\n",
              "      <td>6</td>\n",
              "      <td>1</td>\n",
              "      <td>26880</td>\n",
              "    </tr>\n",
              "    <tr>\n",
              "      <th>2</th>\n",
              "      <td>0.000004</td>\n",
              "      <td>200</td>\n",
              "      <td>0</td>\n",
              "      <td>254</td>\n",
              "      <td>0</td>\n",
              "      <td>2.000000e+08</td>\n",
              "      <td>0.000000e+00</td>\n",
              "      <td>2</td>\n",
              "      <td>0</td>\n",
              "      <td>0</td>\n",
              "      <td>0</td>\n",
              "      <td>100</td>\n",
              "      <td>0</td>\n",
              "      <td>0</td>\n",
              "      <td>0</td>\n",
              "      <td>0.000000</td>\n",
              "      <td>0.000000</td>\n",
              "      <td>1424251602</td>\n",
              "      <td>0.004000</td>\n",
              "      <td>0.000000</td>\n",
              "      <td>0.000000</td>\n",
              "      <td>0.000000</td>\n",
              "      <td>0.000000</td>\n",
              "      <td>0</td>\n",
              "      <td>2</td>\n",
              "      <td>0.0</td>\n",
              "      <td>0.0</td>\n",
              "      <td>0</td>\n",
              "      <td>6</td>\n",
              "      <td>2</td>\n",
              "      <td>2</td>\n",
              "      <td>2</td>\n",
              "      <td>200</td>\n",
              "    </tr>\n",
              "    <tr>\n",
              "      <th>3</th>\n",
              "      <td>0.577410</td>\n",
              "      <td>424</td>\n",
              "      <td>8824</td>\n",
              "      <td>31</td>\n",
              "      <td>29</td>\n",
              "      <td>5.140195e+03</td>\n",
              "      <td>1.120729e+05</td>\n",
              "      <td>8</td>\n",
              "      <td>255</td>\n",
              "      <td>3238426935</td>\n",
              "      <td>15951762</td>\n",
              "      <td>53</td>\n",
              "      <td>735</td>\n",
              "      <td>0</td>\n",
              "      <td>0</td>\n",
              "      <td>5024.808549</td>\n",
              "      <td>3974.151181</td>\n",
              "      <td>1421956882</td>\n",
              "      <td>82.443286</td>\n",
              "      <td>52.449637</td>\n",
              "      <td>0.000616</td>\n",
              "      <td>0.000462</td>\n",
              "      <td>0.000154</td>\n",
              "      <td>0</td>\n",
              "      <td>0</td>\n",
              "      <td>0.0</td>\n",
              "      <td>0.0</td>\n",
              "      <td>0</td>\n",
              "      <td>3</td>\n",
              "      <td>2</td>\n",
              "      <td>1</td>\n",
              "      <td>1</td>\n",
              "      <td>9248</td>\n",
              "    </tr>\n",
              "    <tr>\n",
              "      <th>4</th>\n",
              "      <td>0.723530</td>\n",
              "      <td>566</td>\n",
              "      <td>354</td>\n",
              "      <td>254</td>\n",
              "      <td>252</td>\n",
              "      <td>5.639020e+03</td>\n",
              "      <td>3.427639e+03</td>\n",
              "      <td>10</td>\n",
              "      <td>255</td>\n",
              "      <td>1094808002</td>\n",
              "      <td>3496999683</td>\n",
              "      <td>57</td>\n",
              "      <td>44</td>\n",
              "      <td>1</td>\n",
              "      <td>0</td>\n",
              "      <td>4554.715892</td>\n",
              "      <td>154.934125</td>\n",
              "      <td>1424244462</td>\n",
              "      <td>76.712222</td>\n",
              "      <td>91.319430</td>\n",
              "      <td>0.166414</td>\n",
              "      <td>0.084290</td>\n",
              "      <td>0.082124</td>\n",
              "      <td>0</td>\n",
              "      <td>1</td>\n",
              "      <td>1.0</td>\n",
              "      <td>0.0</td>\n",
              "      <td>0</td>\n",
              "      <td>2</td>\n",
              "      <td>1</td>\n",
              "      <td>16</td>\n",
              "      <td>1</td>\n",
              "      <td>920</td>\n",
              "    </tr>\n",
              "  </tbody>\n",
              "</table>\n",
              "</div>"
            ],
            "text/plain": [
              "Name       dur  sbytes  dbytes  ...  ct_src_ltm  ct_dst_sport_ltm  network_bytes\n",
              "0     0.001768     544     304  ...           3                 1            848\n",
              "1     0.014909    2766   24114  ...           6                 1          26880\n",
              "2     0.000004     200       0  ...           2                 2            200\n",
              "3     0.577410     424    8824  ...           1                 1           9248\n",
              "4     0.723530     566     354  ...          16                 1            920\n",
              "\n",
              "[5 rows x 33 columns]"
            ]
          },
          "metadata": {
            "tags": []
          },
          "execution_count": 33
        }
      ]
    },
    {
      "cell_type": "code",
      "metadata": {
        "colab": {
          "base_uri": "https://localhost:8080/"
        },
        "id": "DIKa_l1dAcNL",
        "outputId": "22b58f1f-909d-4ec6-c42e-f6c9cb68601c"
      },
      "source": [
        "X_train.shape, Y_train.shape"
      ],
      "execution_count": 34,
      "outputs": [
        {
          "output_type": "execute_result",
          "data": {
            "text/plain": [
              "((1778032, 33), (1778032,))"
            ]
          },
          "metadata": {
            "tags": []
          },
          "execution_count": 34
        }
      ]
    },
    {
      "cell_type": "code",
      "metadata": {
        "colab": {
          "base_uri": "https://localhost:8080/"
        },
        "id": "_XUHSuGjAtwu",
        "outputId": "b1a45162-f539-4d09-ff7b-73dfeb055144"
      },
      "source": [
        "X_test.shape, Y_test.shape"
      ],
      "execution_count": 35,
      "outputs": [
        {
          "output_type": "execute_result",
          "data": {
            "text/plain": [
              "((762015, 33), (762015,))"
            ]
          },
          "metadata": {
            "tags": []
          },
          "execution_count": 35
        }
      ]
    },
    {
      "cell_type": "markdown",
      "metadata": {
        "id": "_7tqEKE1oOja"
      },
      "source": [
        "**Modelling**"
      ]
    },
    {
      "cell_type": "markdown",
      "metadata": {
        "id": "lq09bPNlwGpc"
      },
      "source": [
        "MLP"
      ]
    },
    {
      "cell_type": "code",
      "metadata": {
        "colab": {
          "base_uri": "https://localhost:8080/"
        },
        "id": "Gxedvnc9oQV9",
        "outputId": "f2e06b1b-cec0-423d-8239-0298a5ef1aa6"
      },
      "source": [
        "def accuracy(confusion_matrix):\r\n",
        "   diagonal_sum = confusion_matrix.trace()\r\n",
        "   sum_of_all_elements = confusion_matrix.sum()\r\n",
        "   return diagonal_sum / sum_of_all_elements\r\n",
        "mlp=MLPClassifier(hidden_layer_sizes=(5,2), alpha=1e-5,activation = 'relu',solver='lbfgs',random_state=1)\r\n",
        "mlp.fit(X_train, Y_train)"
      ],
      "execution_count": 36,
      "outputs": [
        {
          "output_type": "execute_result",
          "data": {
            "text/plain": [
              "MLPClassifier(activation='relu', alpha=1e-05, batch_size='auto', beta_1=0.9,\n",
              "              beta_2=0.999, early_stopping=False, epsilon=1e-08,\n",
              "              hidden_layer_sizes=(5, 2), learning_rate='constant',\n",
              "              learning_rate_init=0.001, max_fun=15000, max_iter=200,\n",
              "              momentum=0.9, n_iter_no_change=10, nesterovs_momentum=True,\n",
              "              power_t=0.5, random_state=1, shuffle=True, solver='lbfgs',\n",
              "              tol=0.0001, validation_fraction=0.1, verbose=False,\n",
              "              warm_start=False)"
            ]
          },
          "metadata": {
            "tags": []
          },
          "execution_count": 36
        }
      ]
    },
    {
      "cell_type": "code",
      "metadata": {
        "colab": {
          "base_uri": "https://localhost:8080/"
        },
        "id": "60hEwkgrwJFA",
        "outputId": "fdbd369d-ea64-4971-8970-593a8d1888c3"
      },
      "source": [
        "start = time.time() \r\n",
        "mlp.fit(X_train, Y_train.values.ravel()) \r\n",
        "end= time.time() \r\n",
        "print(\"Training time: \", end-start) "
      ],
      "execution_count": 37,
      "outputs": [
        {
          "output_type": "stream",
          "text": [
            "Training time:  12.000945329666138\n"
          ],
          "name": "stdout"
        }
      ]
    },
    {
      "cell_type": "code",
      "metadata": {
        "colab": {
          "base_uri": "https://localhost:8080/"
        },
        "id": "iPWrTcqswNa_",
        "outputId": "0c4b6c63-7be9-4184-dd64-f95e75f367ad"
      },
      "source": [
        "start= time.time() \r\n",
        "Y_pred = mlp.predict(X_test) \r\n",
        "end = time.time() \r\n",
        "print(\"Testing time: \", end-start)\r\n",
        "cm = confusion_matrix(Y_pred, Y_test)"
      ],
      "execution_count": 38,
      "outputs": [
        {
          "output_type": "stream",
          "text": [
            "Testing time:  1.6332669258117676\n"
          ],
          "name": "stdout"
        }
      ]
    },
    {
      "cell_type": "code",
      "metadata": {
        "colab": {
          "base_uri": "https://localhost:8080/"
        },
        "id": "Vbo5uloSwVF1",
        "outputId": "51551293-8814-4aaa-a7aa-ef456c9aae03"
      },
      "source": [
        "print(accuracy(cm))"
      ],
      "execution_count": 39,
      "outputs": [
        {
          "output_type": "stream",
          "text": [
            "0.8378037177745845\n"
          ],
          "name": "stdout"
        }
      ]
    },
    {
      "cell_type": "markdown",
      "metadata": {
        "id": "wod3RN1swYAW"
      },
      "source": [
        "Random Forest Classifier"
      ]
    },
    {
      "cell_type": "code",
      "metadata": {
        "colab": {
          "base_uri": "https://localhost:8080/"
        },
        "id": "xjKHMgECwYaS",
        "outputId": "e9a4c65f-62e6-4a40-e2f2-3c885d8915d2"
      },
      "source": [
        "rf = RandomForestClassifier(n_estimators = 50) \r\n",
        "start = time.time() \r\n",
        "rf.fit(X_train, Y_train.values.ravel()) \r\n",
        "end = time.time() \r\n",
        "print(\"Training time: \", end-start)"
      ],
      "execution_count": 40,
      "outputs": [
        {
          "output_type": "stream",
          "text": [
            "Training time:  145.9389111995697\n"
          ],
          "name": "stdout"
        }
      ]
    },
    {
      "cell_type": "code",
      "metadata": {
        "colab": {
          "base_uri": "https://localhost:8080/"
        },
        "id": "5hxtthghwc2J",
        "outputId": "eea8576d-6399-411c-c732-d94365fe8cd4"
      },
      "source": [
        "start= time.time() \r\n",
        "Y_pred = rf.predict(X_test) \r\n",
        "end = time.time() \r\n",
        "print(\"Testing time: \", end-start) "
      ],
      "execution_count": 41,
      "outputs": [
        {
          "output_type": "stream",
          "text": [
            "Testing time:  3.9649927616119385\n"
          ],
          "name": "stdout"
        }
      ]
    },
    {
      "cell_type": "code",
      "metadata": {
        "id": "HSHsikf2wgXG",
        "colab": {
          "base_uri": "https://localhost:8080/"
        },
        "outputId": "2a08bc42-52f4-4de2-922a-5314ac06d115"
      },
      "source": [
        "print(\"Train score is:\", rf.score(X_train, Y_train)) \r\n",
        "print(\"Test score is:\", rf.score(X_test, Y_test)) "
      ],
      "execution_count": 42,
      "outputs": [
        {
          "output_type": "stream",
          "text": [
            "Train score is: 0.9999223860987879\n",
            "Test score is: 0.5222062557823665\n"
          ],
          "name": "stdout"
        }
      ]
    },
    {
      "cell_type": "markdown",
      "metadata": {
        "id": "NPsvBF6xwiir"
      },
      "source": [
        "Naive Bayes Classifier"
      ]
    },
    {
      "cell_type": "code",
      "metadata": {
        "id": "Czx_9f0Qwi-c",
        "colab": {
          "base_uri": "https://localhost:8080/"
        },
        "outputId": "80cdc3dd-3a29-4a01-8b50-9ed61c206202"
      },
      "source": [
        "from sklearn.naive_bayes import GaussianNB \r\n",
        "nb = GaussianNB() \r\n",
        "start = time.time() \r\n",
        "nb.fit(X_train, Y_train.values.ravel()) \r\n",
        "end = time.time() \r\n",
        "print(\"Training time: \", end-start)"
      ],
      "execution_count": 43,
      "outputs": [
        {
          "output_type": "stream",
          "text": [
            "Training time:  1.0158665180206299\n"
          ],
          "name": "stdout"
        }
      ]
    },
    {
      "cell_type": "code",
      "metadata": {
        "id": "PJaPCRPUwmSG",
        "colab": {
          "base_uri": "https://localhost:8080/"
        },
        "outputId": "183173ea-c9c4-4f64-869f-452cb2475b9b"
      },
      "source": [
        "start= time.time() \r\n",
        "Y_pred = nb.predict(X_test) \r\n",
        "end = time.time() \r\n",
        "print(\"Testing time: \", end-start) "
      ],
      "execution_count": 44,
      "outputs": [
        {
          "output_type": "stream",
          "text": [
            "Testing time:  1.6733651161193848\n"
          ],
          "name": "stdout"
        }
      ]
    },
    {
      "cell_type": "code",
      "metadata": {
        "id": "GPJQdjHzwojM",
        "colab": {
          "base_uri": "https://localhost:8080/"
        },
        "outputId": "48fd1f3c-c97e-4fa0-d6aa-eb66c7e5f024"
      },
      "source": [
        "print(\"Train score is:\", nb.score(X_train, Y_train)) \r\n",
        "print(\"Test score is:\", nb.score(X_test, Y_test)) "
      ],
      "execution_count": 45,
      "outputs": [
        {
          "output_type": "stream",
          "text": [
            "Train score is: 0.898923641419277\n",
            "Test score is: 0.8732872712479414\n"
          ],
          "name": "stdout"
        }
      ]
    },
    {
      "cell_type": "markdown",
      "metadata": {
        "id": "9p484odizX9j"
      },
      "source": [
        "Decision Tree Classifier"
      ]
    },
    {
      "cell_type": "code",
      "metadata": {
        "id": "W-pluCXMwog1",
        "colab": {
          "base_uri": "https://localhost:8080/"
        },
        "outputId": "4aa765cb-61f1-417f-ef94-6eb84a34dafd"
      },
      "source": [
        "dt = DecisionTreeClassifier(criterion =\"entropy\", max_depth = 4)\r\n",
        "start = time.time() \r\n",
        "dt.fit(X_train, Y_train.values.ravel()) \r\n",
        "end = time.time() \r\n",
        "print(\"Training time: \", end-start)"
      ],
      "execution_count": 46,
      "outputs": [
        {
          "output_type": "stream",
          "text": [
            "Training time:  14.430512189865112\n"
          ],
          "name": "stdout"
        }
      ]
    },
    {
      "cell_type": "code",
      "metadata": {
        "id": "8oYU4koBwodG",
        "colab": {
          "base_uri": "https://localhost:8080/"
        },
        "outputId": "2ff4e73a-ca8f-439d-81fb-1ef7db09f80e"
      },
      "source": [
        "start= time.time() \r\n",
        "Y_pred = dt.predict(X_test) \r\n",
        "end = time.time() \r\n",
        "print(\"Testing time: \", end-start)"
      ],
      "execution_count": 47,
      "outputs": [
        {
          "output_type": "stream",
          "text": [
            "Testing time:  1.4385056495666504\n"
          ],
          "name": "stdout"
        }
      ]
    },
    {
      "cell_type": "code",
      "metadata": {
        "id": "-gLtN1k1wobS",
        "colab": {
          "base_uri": "https://localhost:8080/"
        },
        "outputId": "37f9e790-a553-49aa-ecc1-df52337c7876"
      },
      "source": [
        "print(\"Train score :\", dt.score(X_train, Y_train)) \r\n",
        "print(\"Test score :\", dt.score(X_test, Y_test))"
      ],
      "execution_count": 48,
      "outputs": [
        {
          "output_type": "stream",
          "text": [
            "Train score : 0.9874574810802055\n",
            "Test score : 0.1308360071652133\n"
          ],
          "name": "stdout"
        }
      ]
    },
    {
      "cell_type": "markdown",
      "metadata": {
        "id": "BAKvpeatzbf7"
      },
      "source": [
        "K-Means Clustering"
      ]
    },
    {
      "cell_type": "code",
      "metadata": {
        "id": "T0ajn-3BwoYL"
      },
      "source": [
        "from sklearn.cluster import KMeans\r\n",
        "kmeans = KMeans(n_clusters=2)"
      ],
      "execution_count": 49,
      "outputs": []
    },
    {
      "cell_type": "code",
      "metadata": {
        "id": "hX_2FWCnwoVe",
        "colab": {
          "base_uri": "https://localhost:8080/"
        },
        "outputId": "939ac09e-e06f-492d-aa31-7d49ef887da6"
      },
      "source": [
        "start = time.time() \r\n",
        "kmeans.fit(X_train)\r\n",
        "end = time.time() \r\n",
        "print(\"Training time: \", end-start)"
      ],
      "execution_count": 50,
      "outputs": [
        {
          "output_type": "stream",
          "text": [
            "Training time:  18.59955096244812\n"
          ],
          "name": "stdout"
        }
      ]
    },
    {
      "cell_type": "code",
      "metadata": {
        "id": "MxZ0JXsMwoSn",
        "colab": {
          "base_uri": "https://localhost:8080/"
        },
        "outputId": "932dc071-bf57-4385-ea2a-a1420ed7b505"
      },
      "source": [
        "start= time.time() \r\n",
        "train_cluster = kmeans.predict(X_train)\r\n",
        "test_cluster = kmeans.predict(X_test) \r\n",
        "end = time.time() \r\n",
        "print(\"Testing time: \", end-start)"
      ],
      "execution_count": 51,
      "outputs": [
        {
          "output_type": "stream",
          "text": [
            "Testing time:  2.3065783977508545\n"
          ],
          "name": "stdout"
        }
      ]
    },
    {
      "cell_type": "code",
      "metadata": {
        "id": "81HPizN_OULg"
      },
      "source": [
        "cm = confusion_matrix(Y_pred, Y_test)\r\n",
        "print(accuracy(cm))"
      ],
      "execution_count": null,
      "outputs": []
    },
    {
      "cell_type": "markdown",
      "metadata": {
        "id": "41iM-0mH0LYJ"
      },
      "source": [
        "**SVM**"
      ]
    },
    {
      "cell_type": "code",
      "metadata": {
        "id": "2B7mD56mwoP5"
      },
      "source": [
        "sv = SVC(gamma='scale')\r\n",
        "start = time.time() \r\n",
        "sv.fit(X_train, Y_train.values.ravel()) \r\n",
        "end = time.time() \r\n",
        "print(\"Training time: \", end-start)"
      ],
      "execution_count": null,
      "outputs": []
    },
    {
      "cell_type": "code",
      "metadata": {
        "id": "EMUxwMoPwoNE"
      },
      "source": [
        "start= time.time() \r\n",
        "Y_pred = sv.predict(X_test) \r\n",
        "end = time.time() \r\n",
        "print(\"Testing time: \", end-start)"
      ],
      "execution_count": null,
      "outputs": []
    },
    {
      "cell_type": "code",
      "metadata": {
        "id": "84uLPWePwoKX"
      },
      "source": [
        "print(\"Train score :\", sv.score(X_train, Y_train)) \r\n",
        "print(\"Test score :\", sv.score(X_test, Y_test))"
      ],
      "execution_count": null,
      "outputs": []
    },
    {
      "cell_type": "markdown",
      "metadata": {
        "id": "mOZwTp5N0biy"
      },
      "source": [
        "Gradient Descent"
      ]
    },
    {
      "cell_type": "code",
      "metadata": {
        "id": "VvOo-50dwoHc"
      },
      "source": [
        "gd = GradientBoostingClassifier(random_state = 0)\r\n",
        "start= time.time() \r\n",
        "gd.fit(X_train, Y_train.values.ravel()) \r\n",
        "end = time.time() \r\n",
        "print(\"Training time: \", end-start)"
      ],
      "execution_count": null,
      "outputs": []
    },
    {
      "cell_type": "code",
      "metadata": {
        "id": "mhj-m4NGwoE2"
      },
      "source": [
        "start= time.time() \r\n",
        "Y_pred =gd.predict(X_test) \r\n",
        "end = time.time() \r\n",
        "print(\"Testing time: \", end-start)"
      ],
      "execution_count": null,
      "outputs": []
    },
    {
      "cell_type": "code",
      "metadata": {
        "id": "ZKLBhCsZwoB2"
      },
      "source": [
        "print(\"Train score is:\",gd.score(X_train, Y_train)) \r\n",
        "print(\"Test score is:\", gd.score(X_test, Y_test))"
      ],
      "execution_count": null,
      "outputs": []
    },
    {
      "cell_type": "markdown",
      "metadata": {
        "id": "OpnI6-ml0jLI"
      },
      "source": [
        "Logistic Regression"
      ]
    },
    {
      "cell_type": "code",
      "metadata": {
        "id": "yCsrPASUwn_P"
      },
      "source": [
        "lr = LogisticRegression(max_iter = 1500000)\r\n",
        "start= time.time() \r\n",
        "lr.fit(X_train, Y_train.values.ravel()) \r\n",
        "end = time.time() \r\n",
        "print(\"Training time: \", end-start)"
      ],
      "execution_count": null,
      "outputs": []
    },
    {
      "cell_type": "code",
      "metadata": {
        "id": "_xUuxb4Awn8o"
      },
      "source": [
        "start= time.time() \r\n",
        "Y_pred = lr.predict(X_test) \r\n",
        "end = time.time() \r\n",
        "print(\"Testing time: \", end-start)"
      ],
      "execution_count": null,
      "outputs": []
    },
    {
      "cell_type": "code",
      "metadata": {
        "id": "uUUE2Xb0wn5t"
      },
      "source": [
        "print(\"Train score is:\", lr.score(X_train, Y_train)) \r\n",
        "print(\"Test score is:\", lr.score(X_test, Y_test))"
      ],
      "execution_count": null,
      "outputs": []
    },
    {
      "cell_type": "markdown",
      "metadata": {
        "id": "VloQhMJ40uWJ"
      },
      "source": [
        "**PLOTS**"
      ]
    },
    {
      "cell_type": "markdown",
      "metadata": {
        "id": "q05FO4ue0wrb"
      },
      "source": [
        "ACCURACY"
      ]
    },
    {
      "cell_type": "markdown",
      "metadata": {
        "id": "d0LKZGmE0zGf"
      },
      "source": [
        "Testing Accuracy"
      ]
    },
    {
      "cell_type": "code",
      "metadata": {
        "id": "mcdseDrcwn3C"
      },
      "source": [
        "names = ['RF', 'NB', 'DT', 'SVM', 'GB', 'LR'] \r\n",
        "values = [, , , , , ] \r\n",
        "f = plt.figure(figsize =(20, 5), num = 10) \r\n",
        "plt.subplot(131) \r\n",
        "plt.bar(names, values)"
      ],
      "execution_count": null,
      "outputs": []
    },
    {
      "cell_type": "markdown",
      "metadata": {
        "id": "n9iyVtJL1CoZ"
      },
      "source": [
        "Training Accuracy"
      ]
    },
    {
      "cell_type": "code",
      "metadata": {
        "id": "32ful8fMwn0f"
      },
      "source": [
        "names =  ['MLP', 'RF', 'NB', 'DT', 'KM', 'SVM', 'GB', 'LR']\r\n",
        "values = [, , , , , , , ] \r\n",
        "f = plt.figure(figsize =(20, 5), num = 10) \r\n",
        "plt.subplot(131) \r\n",
        "plt.bar(names, values)"
      ],
      "execution_count": null,
      "outputs": []
    },
    {
      "cell_type": "markdown",
      "metadata": {
        "id": "Ko3A9PdG1GT4"
      },
      "source": [
        "TIME"
      ]
    },
    {
      "cell_type": "markdown",
      "metadata": {
        "id": "Le8Y8KMm1JgV"
      },
      "source": [
        "Training Time"
      ]
    },
    {
      "cell_type": "code",
      "metadata": {
        "id": "ToQxaAk0wnx6"
      },
      "source": [
        "names = ['MLP', 'RF', 'NB', 'DT', 'KM', 'SVM', 'GB', 'LR'] \r\n",
        "values = [, , , , , , , ] \r\n",
        "f = plt.figure(figsize =(20, 8), num = 10) \r\n",
        "plt.subplot(131) \r\n",
        "plt.bar(names, values)"
      ],
      "execution_count": null,
      "outputs": []
    },
    {
      "cell_type": "markdown",
      "metadata": {
        "id": "Q4zmQG9N1P3T"
      },
      "source": [
        "Testing Time"
      ]
    },
    {
      "cell_type": "code",
      "metadata": {
        "id": "2e22XN_pwnvY"
      },
      "source": [
        "names = ['MLP', 'RF', 'NB', 'DT', 'KM', 'SVM', 'GB', 'LR'] \r\n",
        "values = [ , , , , , , , ] \r\n",
        "f = plt.figure(figsize =(20, 10), num = 10) \r\n",
        "plt.subplot(131) \r\n",
        "plt.bar(names, values) "
      ],
      "execution_count": null,
      "outputs": []
    }
  ]
}